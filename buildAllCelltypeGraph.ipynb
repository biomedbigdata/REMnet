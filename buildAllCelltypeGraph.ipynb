{
 "cells": [
  {
   "cell_type": "code",
   "execution_count": 1,
   "id": "f2339dd9",
   "metadata": {},
   "outputs": [],
   "source": [
    "from graph_tool.all import *\n",
    "from tqdm import tqdm\n",
    "import csv"
   ]
  },
  {
   "cell_type": "code",
   "execution_count": 54,
   "id": "a9a6e928",
   "metadata": {},
   "outputs": [
    {
     "name": "stderr",
     "output_type": "stream",
     "text": [
      "2404862it [01:54, 20926.05it/s]\n"
     ]
    }
   ],
   "source": [
    "g = Graph()\n",
    "name = g.new_vp(\"string\")\n",
    "g.vp.name = name\n",
    "type = g.new_vp(\"string\")\n",
    "g.vp.type = type\n",
    "score = g.new_ep(\"double\")\n",
    "g.edge_properties[\"score\"] = score\n",
    "\n",
    "done_proteins_dict = {}\n",
    "with open('../data/REMAnnotationModelScore_1.csv') as file:\n",
    "    reader = csv.reader(file)\n",
    "#     counter = 0\n",
    "    for row in tqdm(reader):\n",
    "        if row[1] != \"start\":\n",
    "            v1 = g.add_vertex()\n",
    "            g.vp.name[v1] = row[4]\n",
    "            g.vp.type[v1] = \"REM\"\n",
    "            \n",
    "            if done_proteins_dict.get(row[3]) == None:\n",
    "                v2 = g.add_vertex()\n",
    "                g.vp.name[v2] = row[3]\n",
    "                g.vp.type[v2] = \"Gene\"\n",
    "                done_proteins_dict[row[3]] = int(v2)\n",
    "            else:\n",
    "                v2 = g.vertex(done_proteins_dict.get(row[3]))\n",
    "                \n",
    "            e = g.add_edge(v1, v2)\n",
    "            g.ep.score[e] = row[7]\n",
    "\n",
    "        \n",
    "#         counter += 1\n",
    "#         if(counter == 4):\n",
    "#             break"
   ]
  },
  {
   "cell_type": "code",
   "execution_count": 29,
   "id": "d52b278a",
   "metadata": {},
   "outputs": [],
   "source": [
    "g.save(\"../data/graph-tool/allCelltypeGraph.gt\")"
   ]
  },
  {
   "cell_type": "code",
   "execution_count": 4,
   "id": "9b021640",
   "metadata": {},
   "outputs": [],
   "source": [
    "g = load_graph(\"../data/graph-tool/allCelltypeGraph.gt\")"
   ]
  },
  {
   "cell_type": "code",
   "execution_count": 28,
   "id": "773be912",
   "metadata": {},
   "outputs": [
    {
     "name": "stdout",
     "output_type": "stream",
     "text": [
      "name           (vertex)  (type: string)\n",
      "type           (vertex)  (type: string)\n",
      "score          (edge)    (type: double)\n"
     ]
    }
   ],
   "source": [
    "g.list_properties()"
   ]
  },
  {
   "cell_type": "code",
   "execution_count": 6,
   "id": "45ab23b0",
   "metadata": {},
   "outputs": [
    {
     "name": "stdout",
     "output_type": "stream",
     "text": [
      "2404861\n"
     ]
    }
   ],
   "source": [
    "# for e in g.edges():\n",
    "#     print(g.ep.score[e])\n",
    "rowCount = sum(1 for e in g.edges())\n",
    "print(rowCount)"
   ]
  }
 ],
 "metadata": {
  "kernelspec": {
   "display_name": "Python 3 (ipykernel)",
   "language": "python",
   "name": "python3"
  },
  "language_info": {
   "codemirror_mode": {
    "name": "ipython",
    "version": 3
   },
   "file_extension": ".py",
   "mimetype": "text/x-python",
   "name": "python",
   "nbconvert_exporter": "python",
   "pygments_lexer": "ipython3",
   "version": "3.11.0"
  }
 },
 "nbformat": 4,
 "nbformat_minor": 5
}
