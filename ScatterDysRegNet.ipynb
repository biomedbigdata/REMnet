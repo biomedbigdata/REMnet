{
 "cells": [
  {
   "cell_type": "code",
   "execution_count": 1,
   "id": "78f19afe",
   "metadata": {},
   "outputs": [],
   "source": [
    "from graph_tool.all import *\n",
    "from tqdm import tqdm\n",
    "import pandas as pd\n",
    "import csv\n",
    "import matplotlib.pyplot as plt\n",
    "import numpy as np\n",
    "import scipy.stats as stats\n",
    "import plotly.express as px"
   ]
  },
  {
   "cell_type": "code",
   "execution_count": 52,
   "id": "a0913f65",
   "metadata": {},
   "outputs": [],
   "source": [
    "# load dysregnet results and extract edges with values\n",
    "\n",
    "dys = pd.read_csv(\"../data/TCGA/dysreg_KIRC.csv\", sep=\"\\t\")\n",
    "sample_list = dys.iloc[:,0].tolist()\n",
    "dys = dys[dys.columns[1:]]\n",
    "dys.index = sample_list\n",
    "# for first row only\n",
    "dys_edges = dict(zip([e.replace(\"(\", \"\").replace(\")\", \"\").replace(\"'\", \"\").replace(\" \", \"\") for e in dys.columns.tolist()], dys.iloc[1].tolist()))"
   ]
  },
  {
   "cell_type": "code",
   "execution_count": 53,
   "id": "c22db59a",
   "metadata": {},
   "outputs": [],
   "source": [
    "genes = [i.split(\",\")[1] for i in list(dys_edges.keys())]\n",
    "gene_file = open(\"../data/TCGA/genes.txt\", \"w\")\n",
    "for g in genes:\n",
    "    gene_file.write(f\"{g}\\n\")\n",
    "gene_file.close()"
   ]
  },
  {
   "cell_type": "code",
   "execution_count": 3,
   "id": "63e7a1b1",
   "metadata": {},
   "outputs": [],
   "source": [
    "# print edges to file to upload to REMnet app\n",
    "\n",
    "dys_edges_file = open(\"../data/TCGA/dysreg_edges_KIRC.csv\", \"w\")\n",
    "dys_edges_file.write(\"REM,GENE\\n\")\n",
    "for e in dys_edges.keys():\n",
    "    dys_edges_file.write(e+\"\\n\")"
   ]
  },
  {
   "cell_type": "code",
   "execution_count": 8,
   "id": "cbca4bf9",
   "metadata": {},
   "outputs": [
    {
     "name": "stderr",
     "output_type": "stream",
     "text": [
      "2404861it [00:09, 241769.77it/s]\n"
     ]
    }
   ],
   "source": [
    "g = load_graph(\"../data/graph-tool/CTID_0000055.gt\")\n",
    "epi_edges = {}\n",
    "edges_to_mean = {}\n",
    "for e in tqdm(g.edges()):\n",
    "    e_name = f\"{g.vp.name[e.source()]},{g.vp.name[e.target()]}\"\n",
    "    if e_name in dys_edges:\n",
    "        if epi_edges.get(e_name) == None:\n",
    "            edges_to_mean[e_name] = 1\n",
    "            epi_edges[e_name] = g.ep[\"R_ENCBS610XAP\"][e]\n",
    "        else:\n",
    "            edges_to_mean[e_name] += 1\n",
    "            epi_edges[e_name] = epi_edges.get(e_name) + g.ep[\"R_ENCBS610XAP\"][e]"
   ]
  },
  {
   "cell_type": "code",
   "execution_count": 54,
   "id": "fd33e5bd",
   "metadata": {},
   "outputs": [],
   "source": [
    "epi_edges_vals = []\n",
    "for e in dys_edges:\n",
    "    epi_edges_vals.append(epi_edges[e]/edges_to_mean[e])\n",
    "dys_zscores = list(dys_edges.values())\n",
    "epi_zscores = list(stats.zscore(epi_edges_vals))"
   ]
  },
  {
   "cell_type": "code",
   "execution_count": 55,
   "id": "55bb6ff7",
   "metadata": {},
   "outputs": [
    {
     "data": {
      "application/vnd.plotly.v1+json": {
       "config": {
        "plotlyServerURL": "https://plot.ly"
       },
       "data": [
        {
         "hovertemplate": "x=%{x}<br>y=%{y}<br>text=%{text}<extra></extra>",
         "legendgroup": "",
         "marker": {
          "color": "#636efa",
          "symbol": "circle"
         },
         "mode": "markers",
         "name": "",
         "orientation": "v",
         "showlegend": false,
         "text": [
          "CREM0001155,ENSG00000067606",
          "CREM0003270,ENSG00000120949",
          "REM0019375,ENSG00000120949",
          "CREM0005826,ENSG00000020633",
          "REM0034680,ENSG00000020633",
          "REM0050281,ENSG00000134684",
          "REM0050390,ENSG00000134684",
          "CREM0010411,ENSG00000084070",
          "CREM0011665,ENSG00000117425",
          "CREM0011701,ENSG00000117425",
          "CREM0011733,ENSG00000117425",
          "CREM0012462,ENSG00000186564",
          "CREM0028317,ENSG00000163531",
          "REM0180429,ENSG00000174059",
          "CREM0029231,ENSG00000174059",
          "CREM0030870,ENSG00000196187",
          "CREM0038228,ENSG00000128815",
          "REM0257875,ENSG00000107745",
          "CREM0041764,ENSG00000122378",
          "CREM0041766,ENSG00000122378",
          "REM0272454,ENSG00000184719",
          "CREM0046915,ENSG00000166033",
          "CREM0046962,ENSG00000213185",
          "CREM0047767,ENSG00000151651",
          "CREM0047789,ENSG00000151651",
          "CREM0047790,ENSG00000151651",
          "CREM0048931,ENSG00000130592",
          "CREM0053052,ENSG00000149089",
          "CREM0057418,ENSG00000068971",
          "CREM0058965,ENSG00000175463",
          "REM0378354,ENSG00000172508",
          "CREM0059020,ENSG00000172725",
          "REM0391124,ENSG00000171533",
          "CREM0065577,ENSG00000198851",
          "CREM0066017,ENSG00000196655",
          "CREM0067077,ENSG00000165526",
          "CREM0070342,ENSG00000111796",
          "CREM0073025,ENSG00000174236",
          "CREM0074401,ENSG00000247774",
          "CREM0075158,ENSG00000134285",
          "CREM0075164,ENSG00000134285",
          "CREM0078676,ENSG00000111087",
          "REM0502181,ENSG00000135439",
          "CREM0083103,ENSG00000136011",
          "CREM0090189,ENSG00000132932",
          "REM0608044,ENSG00000065150",
          "REM0608066,ENSG00000065150",
          "CREM0097134,ENSG00000092036",
          "CREM0097493,ENSG00000100897",
          "CREM0097509,ENSG00000100897",
          "REM0657702,ENSG00000182107",
          "CREM0103726,ENSG00000279026",
          "CREM0111618,ENSG00000128928",
          "CREM0111642,ENSG00000128928",
          "REM0722662,ENSG00000128928",
          "CREM0111681,ENSG00000128928",
          "CREM0111682,ENSG00000128928",
          "CREM0121153,ENSG00000103942",
          "CREM0124589,ENSG00000090565",
          "CREM0124596,ENSG00000090565",
          "CREM0124701,ENSG00000090565",
          "CREM0124712,ENSG00000090565",
          "CREM0124714,ENSG00000090565",
          "CREM0124715,ENSG00000090565",
          "CREM0124772,ENSG00000140983",
          "REM0804913,ENSG00000172236",
          "CREM0125653,ENSG00000140988",
          "CREM0125692,ENSG00000065054",
          "CREM0126031,ENSG00000238098",
          "REM0810003,ENSG00000238098",
          "CREM0126096,ENSG00000162066",
          "CREM0130170,ENSG00000103544",
          "CREM0130235,ENSG00000103544",
          "CREM0132985,ENSG00000174939",
          "CREM0133609,ENSG00000005844",
          "CREM0133610,ENSG00000005844",
          "CREM0134147,ENSG00000140678",
          "CREM0134237,ENSG00000140678",
          "CREM0136004,ENSG00000125124",
          "CREM0136019,ENSG00000125124",
          "CREM0136046,ENSG00000125124",
          "CREM0137897,ENSG00000102977",
          "CREM0138200,ENSG00000167261",
          "CREM0139299,ENSG00000132613",
          "REM0910530,ENSG00000225614",
          "REM0910559,ENSG00000225614",
          "REM0910666,ENSG00000225614",
          "REM0910667,ENSG00000225614",
          "REM0912306,ENSG00000129993",
          "CREM0145911,ENSG00000129226",
          "CREM0145912,ENSG00000129226",
          "CREM0147571,ENSG00000276855",
          "CREM0154074,ENSG00000273604",
          "CREM0154594,ENSG00000161405",
          "CREM0158599,ENSG00000230148",
          "REM1008370,ENSG00000005882",
          "CREM0159311,ENSG00000005882",
          "CREM0159361,ENSG00000005882",
          "CREM0159530,ENSG00000006282",
          "CREM0162498,ENSG00000256525",
          "CREM0166026,ENSG00000173918",
          "CREM0166043,ENSG00000173918",
          "REM1048557,ENSG00000141570",
          "CREM0168163,ENSG00000170579",
          "CREM0171731,ENSG00000167220",
          "CREM0171780,ENSG00000167220",
          "CREM0174185,ENSG00000274828",
          "CREM0175323,ENSG00000079313",
          "CREM0175540,ENSG00000167476",
          "CREM0175540,ENSG00000188305",
          "CREM0175587,ENSG00000167476",
          "CREM0176411,ENSG00000007264",
          "CREM0177301,ENSG00000125657",
          "CREM0177342,ENSG00000125657",
          "CREM0181444,ENSG00000105122",
          "REM1152556,ENSG00000130300",
          "CREM0182521,ENSG00000130300",
          "CREM0182541,ENSG00000130300",
          "CREM0182548,ENSG00000130300",
          "CREM0182589,ENSG00000130300",
          "CREM0182758,ENSG00000130475",
          "REM1154488,ENSG00000130475",
          "CREM0182823,ENSG00000130475",
          "CREM0187001,ENSG00000105290",
          "CREM0189230,ENSG00000077312",
          "CREM0191761,ENSG00000104983",
          "CREM0193461,ENSG00000104894",
          "CREM0194562,ENSG00000160318",
          "CREM0196221,ENSG00000204577",
          "CREM0197760,ENSG00000105146",
          "CREM0198502,ENSG00000268912",
          "REM1255079,ENSG00000228784",
          "REM1266000,ENSG00000013016",
          "REM1266078,ENSG00000013016",
          "REM1292832,ENSG00000135636",
          "CREM0205738,ENSG00000065911",
          "CREM0205835,ENSG00000114993",
          "CREM0205839,ENSG00000114993",
          "CREM0205882,ENSG00000114993",
          "CREM0205903,ENSG00000114993",
          "CREM0205903,ENSG00000115274",
          "CREM0205921,ENSG00000114993",
          "CREM0206255,ENSG00000186854",
          "CREM0206277,ENSG00000186854",
          "REM1311103,ENSG00000115085",
          "CREM0212219,ENSG00000121966",
          "CREM0213973,ENSG00000138382",
          "CREM0215278,ENSG00000077232",
          "CREM0218628,ENSG00000072195",
          "CREM0219522,ENSG00000115053",
          "CREM0220424,ENSG00000178623",
          "REM1399479,ENSG00000178623",
          "CREM0220964,ENSG00000188389",
          "CREM0220987,ENSG00000188389",
          "CREM0220995,ENSG00000188389",
          "CREM0227962,ENSG00000158445",
          "CREM0229779,ENSG00000232442",
          "CREM0229825,ENSG00000232442",
          "CREM0231731,ENSG00000156299",
          "CREM0239513,ENSG00000100285",
          "CREM0239514,ENSG00000100285",
          "CREM0241137,ENSG00000100368",
          "REM1529005,ENSG00000100368",
          "CREM0241233,ENSG00000100368",
          "REM1542041,ENSG00000100294",
          "CREM0244842,ENSG00000130487",
          "CREM0249789,ENSG00000173578",
          "CREM0251089,ENSG00000173531",
          "CREM0252259,ENSG00000162267",
          "CREM0252337,ENSG00000162267",
          "CREM0252357,ENSG00000162267",
          "CREM0276705,ENSG00000109794",
          "CREM0277864,ENSG00000259802",
          "CREM0277865,ENSG00000259802",
          "CREM0277924,ENSG00000259802",
          "REM1800851,ENSG00000177721",
          "CREM0286647,ENSG00000164406",
          "REM1859807,ENSG00000120709",
          "CREM0287674,ENSG00000120709",
          "CREM0287941,ENSG00000170476",
          "CREM0288625,ENSG00000112852",
          "CREM0288663,ENSG00000112852",
          "REM1869393,ENSG00000113555",
          "CREM0290898,ENSG00000113263",
          "CREM0293302,ENSG00000127022",
          "CREM0299170,ENSG00000204388",
          "CREM0299892,ENSG00000241106",
          "REM2049382,ENSG00000106125",
          "REM2063150,ENSG00000185811",
          "CREM0316959,ENSG00000185811",
          "REM2095822,ENSG00000241468",
          "REM2095823,ENSG00000241468",
          "REM2102469,ENSG00000257923",
          "REM2128059,ENSG00000157680",
          "CREM0335803,ENSG00000156103",
          "REM2190224,ENSG00000156103",
          "REM2199716,ENSG00000034677",
          "CREM0337826,ENSG00000164932",
          "CREM0339947,ENSG00000181790",
          "CREM0340811,ENSG00000255182",
          "CREM0349192,ENSG00000136874",
          "CREM0352604,ENSG00000107021",
          "REM2313492,ENSG00000107290",
          "CREM0364642,ENSG00000102119"
         ],
         "type": "scatter",
         "x": [
          -0.11375354798439899,
          -1.2502914140546608,
          0.295062908302983,
          -0.02150910232643232,
          0.28325987045533574,
          0.769501159069461,
          -0.1813839782129087,
          0.9365542382721791,
          -0.059848601654263485,
          0.9711098367818984,
          -0.20000808729788602,
          -0.18766065710273283,
          -0.12286529050800929,
          1.1492770128486147,
          3.412610766916904,
          0.22601231544317113,
          0.11251104175549596,
          -1.271437427075109,
          -1.3760932204776484,
          -1.0314303882045408,
          1.6361711957531946,
          -0.1486080220030917,
          0.037397156791155475,
          0.07344922997030445,
          0.3781634772042498,
          -0.028535789843839678,
          -0.4562049272968172,
          0.11605558058841572,
          -0.0963970017947162,
          2.6894794911249504,
          -0.08955982458963074,
          -0.02340392303770242,
          -0.8247880840268977,
          0.013933049589636133,
          -0.5856801126170497,
          -0.1394930808904652,
          0.37964330990567574,
          0.08492415140862651,
          -0.38220256946095527,
          -0.11465664504360622,
          -0.06932324134525161,
          -2.352529715014815,
          0.07798735502509692,
          -0.7289233608725182,
          -1.79142811373901,
          -0.2015037655135864,
          -0.3147144510586958,
          -1.2919975818402147,
          0.4815326693506826,
          0.03629383985693185,
          0.44941407046838955,
          0.3677278599406344,
          0.2585228999570983,
          0.14983904848031157,
          -1.4462690224682695,
          -1.4975106683185633,
          1.131740960938685,
          1.061574942201205,
          -0.07330229755570296,
          0.33455048794128456,
          -0.11409471280401035,
          -0.1520546473264648,
          -0.12282539549860305,
          -0.10446543285388032,
          -0.8621059275809241,
          0.040490360923046274,
          -0.8626406876653437,
          3.1016759150500763,
          0.21171862784743495,
          -2.2393552232971974,
          -0.0792235106915924,
          0.04736855682520702,
          1.0892402427522503,
          -0.003206161173002661,
          -0.35813871374419787,
          -0.24465078364835802,
          0.03213624694166914,
          -0.6071053007314798,
          0.1411730143048982,
          -0.9672355477244687,
          0.6244288252654241,
          0.40149557574870187,
          0.37301577778547873,
          0.02675387009695098,
          0.7175310319175141,
          1.1718967978733907,
          -1.3906419119137858,
          -0.4679022534594719,
          0.04587724821121246,
          -0.04779135822780715,
          -0.22441534426081097,
          -0.5993418393400953,
          0.9873573376771715,
          -0.16281008621640589,
          -0.39203186642016763,
          0.12890448312232367,
          0.47794029444849684,
          -0.2672779049870702,
          1.0505830000148435,
          -0.16724387666052376,
          -0.22571107164287516,
          -0.422909586646547,
          -1.9533157382626145,
          2.597005905521951,
          0.24109067223767447,
          0.5294900439979272,
          0.8037298110188495,
          -0.15777155101562013,
          0.06143753322584189,
          0.5335855268932735,
          -0.06089553885526295,
          0.25087294776746055,
          -0.05245793793247973,
          2.1731855848122366,
          1.0166891633491897,
          -0.0241986133927274,
          -0.3761603459699671,
          -0.697045918642248,
          0.18957098777210063,
          0.6918317313892763,
          -0.4970947317699731,
          0.7964568436495084,
          -0.5116168820504027,
          -0.2151797849952363,
          0.22604096860756118,
          -0.21231284220728794,
          0.32870992738075117,
          -0.1253129570862605,
          -0.4669032208458559,
          0.2435468117003874,
          0.08696382209264533,
          -0.012606513103539295,
          -0.15253842536422432,
          -0.23004571266484095,
          -1.708525614449757,
          -1.0156556852515821,
          -0.5548598919690725,
          1.4141357353297825,
          -0.5091721114158015,
          -0.36316087387452456,
          0.9579065000411804,
          -3.0308510678767018,
          0.2604207008385934,
          0.03253468885869757,
          -0.03756816157863812,
          -0.36238300176537036,
          0.27678991468967434,
          0.08441799791863276,
          0.7083157715428069,
          -0.24492573105571344,
          0.4404866582154589,
          -0.1252337644780268,
          0.4509361081522532,
          -0.037094483920318985,
          0.22655999902438811,
          -2.790379382700636,
          0.9881729105129075,
          0.9245640033031411,
          -0.7443580326856174,
          -0.13157098625161978,
          0.14432049220735277,
          0.025353457953031174,
          0.23364310308584685,
          -0.13358767202016716,
          -0.7572347791596307,
          3.104660598834637,
          -0.715054545964053,
          0.11369401595350306,
          -0.9185537981078826,
          0.14904217805815925,
          -0.06421286065480641,
          -0.42696526968055376,
          -0.5702728808531673,
          -0.6347810261695677,
          1.301970098064149,
          -0.4342058577719679,
          -0.21304706750015495,
          -0.0820836650009453,
          -0.0872898204704974,
          -0.8003596190456713,
          -1.366139352743919,
          0.2528276782942546,
          -1.927096646068758,
          -0.3209893797272571,
          -1.1256909508733435,
          -0.22856889401059205,
          -0.05020791046627432,
          -0.5823948657260981,
          -0.23350387162762323,
          0.5354457410192505,
          -0.45745826985423715,
          -0.04155856097567409,
          -0.16065430962151747,
          -0.416346292226157,
          0.3077846629936295,
          7.059873313493532,
          -0.5276635511792312,
          -0.10290780089031794,
          1.0711462012283803,
          0.1765396525191288,
          -0.05998195786308018,
          -0.03184701626740762,
          -0.881446024406847,
          0.7161554814067241
         ],
         "xaxis": "x",
         "y": [
          0,
          0,
          0,
          0,
          0,
          0,
          0,
          0,
          0,
          0,
          0,
          0,
          0,
          0,
          0,
          0,
          0,
          0,
          0,
          0,
          4.3,
          0,
          0,
          0,
          0,
          0,
          0,
          0,
          0,
          0,
          0,
          0,
          0,
          0,
          0,
          0,
          0,
          0,
          0,
          0,
          0,
          0,
          0,
          0,
          0,
          0,
          0,
          0,
          4.8,
          0,
          7.6,
          0,
          0,
          0,
          0,
          0,
          0,
          0,
          0,
          0,
          0,
          0,
          0,
          0,
          0,
          0,
          0,
          0,
          0,
          0,
          0,
          0,
          0,
          0,
          0,
          0,
          0,
          0,
          0,
          0,
          0,
          0,
          0,
          0,
          0,
          0,
          0,
          0,
          0,
          0,
          0,
          0,
          6.9,
          0,
          0,
          0,
          0,
          0,
          0,
          0,
          0,
          0,
          0,
          0,
          0,
          0,
          0,
          0,
          0,
          0,
          0,
          0,
          0,
          0,
          0,
          0,
          0,
          0,
          0,
          0,
          0,
          0,
          0,
          0,
          0,
          0,
          0,
          0,
          0,
          0,
          0,
          0,
          0,
          0,
          0,
          0,
          0,
          0,
          0,
          0,
          0,
          0,
          0,
          0,
          0,
          0,
          0,
          0,
          0,
          0,
          0,
          0,
          0,
          0,
          0,
          0,
          0,
          0,
          0,
          0,
          0,
          0,
          0,
          0,
          0,
          0,
          0,
          0,
          0,
          0,
          0,
          0,
          0,
          6.1,
          6.1,
          0,
          0,
          0,
          0,
          0,
          0,
          0,
          0,
          0,
          0,
          0,
          0,
          0,
          0,
          0,
          0,
          4.4,
          0,
          0,
          0,
          0,
          0,
          0,
          0,
          0,
          0,
          0,
          0,
          0
         ],
         "yaxis": "y"
        }
       ],
       "layout": {
        "legend": {
         "tracegroupgap": 0
        },
        "margin": {
         "t": 60
        },
        "template": {
         "data": {
          "bar": [
           {
            "error_x": {
             "color": "#2a3f5f"
            },
            "error_y": {
             "color": "#2a3f5f"
            },
            "marker": {
             "line": {
              "color": "#E5ECF6",
              "width": 0.5
             },
             "pattern": {
              "fillmode": "overlay",
              "size": 10,
              "solidity": 0.2
             }
            },
            "type": "bar"
           }
          ],
          "barpolar": [
           {
            "marker": {
             "line": {
              "color": "#E5ECF6",
              "width": 0.5
             },
             "pattern": {
              "fillmode": "overlay",
              "size": 10,
              "solidity": 0.2
             }
            },
            "type": "barpolar"
           }
          ],
          "carpet": [
           {
            "aaxis": {
             "endlinecolor": "#2a3f5f",
             "gridcolor": "white",
             "linecolor": "white",
             "minorgridcolor": "white",
             "startlinecolor": "#2a3f5f"
            },
            "baxis": {
             "endlinecolor": "#2a3f5f",
             "gridcolor": "white",
             "linecolor": "white",
             "minorgridcolor": "white",
             "startlinecolor": "#2a3f5f"
            },
            "type": "carpet"
           }
          ],
          "choropleth": [
           {
            "colorbar": {
             "outlinewidth": 0,
             "ticks": ""
            },
            "type": "choropleth"
           }
          ],
          "contour": [
           {
            "colorbar": {
             "outlinewidth": 0,
             "ticks": ""
            },
            "colorscale": [
             [
              0,
              "#0d0887"
             ],
             [
              0.1111111111111111,
              "#46039f"
             ],
             [
              0.2222222222222222,
              "#7201a8"
             ],
             [
              0.3333333333333333,
              "#9c179e"
             ],
             [
              0.4444444444444444,
              "#bd3786"
             ],
             [
              0.5555555555555556,
              "#d8576b"
             ],
             [
              0.6666666666666666,
              "#ed7953"
             ],
             [
              0.7777777777777778,
              "#fb9f3a"
             ],
             [
              0.8888888888888888,
              "#fdca26"
             ],
             [
              1,
              "#f0f921"
             ]
            ],
            "type": "contour"
           }
          ],
          "contourcarpet": [
           {
            "colorbar": {
             "outlinewidth": 0,
             "ticks": ""
            },
            "type": "contourcarpet"
           }
          ],
          "heatmap": [
           {
            "colorbar": {
             "outlinewidth": 0,
             "ticks": ""
            },
            "colorscale": [
             [
              0,
              "#0d0887"
             ],
             [
              0.1111111111111111,
              "#46039f"
             ],
             [
              0.2222222222222222,
              "#7201a8"
             ],
             [
              0.3333333333333333,
              "#9c179e"
             ],
             [
              0.4444444444444444,
              "#bd3786"
             ],
             [
              0.5555555555555556,
              "#d8576b"
             ],
             [
              0.6666666666666666,
              "#ed7953"
             ],
             [
              0.7777777777777778,
              "#fb9f3a"
             ],
             [
              0.8888888888888888,
              "#fdca26"
             ],
             [
              1,
              "#f0f921"
             ]
            ],
            "type": "heatmap"
           }
          ],
          "heatmapgl": [
           {
            "colorbar": {
             "outlinewidth": 0,
             "ticks": ""
            },
            "colorscale": [
             [
              0,
              "#0d0887"
             ],
             [
              0.1111111111111111,
              "#46039f"
             ],
             [
              0.2222222222222222,
              "#7201a8"
             ],
             [
              0.3333333333333333,
              "#9c179e"
             ],
             [
              0.4444444444444444,
              "#bd3786"
             ],
             [
              0.5555555555555556,
              "#d8576b"
             ],
             [
              0.6666666666666666,
              "#ed7953"
             ],
             [
              0.7777777777777778,
              "#fb9f3a"
             ],
             [
              0.8888888888888888,
              "#fdca26"
             ],
             [
              1,
              "#f0f921"
             ]
            ],
            "type": "heatmapgl"
           }
          ],
          "histogram": [
           {
            "marker": {
             "pattern": {
              "fillmode": "overlay",
              "size": 10,
              "solidity": 0.2
             }
            },
            "type": "histogram"
           }
          ],
          "histogram2d": [
           {
            "colorbar": {
             "outlinewidth": 0,
             "ticks": ""
            },
            "colorscale": [
             [
              0,
              "#0d0887"
             ],
             [
              0.1111111111111111,
              "#46039f"
             ],
             [
              0.2222222222222222,
              "#7201a8"
             ],
             [
              0.3333333333333333,
              "#9c179e"
             ],
             [
              0.4444444444444444,
              "#bd3786"
             ],
             [
              0.5555555555555556,
              "#d8576b"
             ],
             [
              0.6666666666666666,
              "#ed7953"
             ],
             [
              0.7777777777777778,
              "#fb9f3a"
             ],
             [
              0.8888888888888888,
              "#fdca26"
             ],
             [
              1,
              "#f0f921"
             ]
            ],
            "type": "histogram2d"
           }
          ],
          "histogram2dcontour": [
           {
            "colorbar": {
             "outlinewidth": 0,
             "ticks": ""
            },
            "colorscale": [
             [
              0,
              "#0d0887"
             ],
             [
              0.1111111111111111,
              "#46039f"
             ],
             [
              0.2222222222222222,
              "#7201a8"
             ],
             [
              0.3333333333333333,
              "#9c179e"
             ],
             [
              0.4444444444444444,
              "#bd3786"
             ],
             [
              0.5555555555555556,
              "#d8576b"
             ],
             [
              0.6666666666666666,
              "#ed7953"
             ],
             [
              0.7777777777777778,
              "#fb9f3a"
             ],
             [
              0.8888888888888888,
              "#fdca26"
             ],
             [
              1,
              "#f0f921"
             ]
            ],
            "type": "histogram2dcontour"
           }
          ],
          "mesh3d": [
           {
            "colorbar": {
             "outlinewidth": 0,
             "ticks": ""
            },
            "type": "mesh3d"
           }
          ],
          "parcoords": [
           {
            "line": {
             "colorbar": {
              "outlinewidth": 0,
              "ticks": ""
             }
            },
            "type": "parcoords"
           }
          ],
          "pie": [
           {
            "automargin": true,
            "type": "pie"
           }
          ],
          "scatter": [
           {
            "fillpattern": {
             "fillmode": "overlay",
             "size": 10,
             "solidity": 0.2
            },
            "type": "scatter"
           }
          ],
          "scatter3d": [
           {
            "line": {
             "colorbar": {
              "outlinewidth": 0,
              "ticks": ""
             }
            },
            "marker": {
             "colorbar": {
              "outlinewidth": 0,
              "ticks": ""
             }
            },
            "type": "scatter3d"
           }
          ],
          "scattercarpet": [
           {
            "marker": {
             "colorbar": {
              "outlinewidth": 0,
              "ticks": ""
             }
            },
            "type": "scattercarpet"
           }
          ],
          "scattergeo": [
           {
            "marker": {
             "colorbar": {
              "outlinewidth": 0,
              "ticks": ""
             }
            },
            "type": "scattergeo"
           }
          ],
          "scattergl": [
           {
            "marker": {
             "colorbar": {
              "outlinewidth": 0,
              "ticks": ""
             }
            },
            "type": "scattergl"
           }
          ],
          "scattermapbox": [
           {
            "marker": {
             "colorbar": {
              "outlinewidth": 0,
              "ticks": ""
             }
            },
            "type": "scattermapbox"
           }
          ],
          "scatterpolar": [
           {
            "marker": {
             "colorbar": {
              "outlinewidth": 0,
              "ticks": ""
             }
            },
            "type": "scatterpolar"
           }
          ],
          "scatterpolargl": [
           {
            "marker": {
             "colorbar": {
              "outlinewidth": 0,
              "ticks": ""
             }
            },
            "type": "scatterpolargl"
           }
          ],
          "scatterternary": [
           {
            "marker": {
             "colorbar": {
              "outlinewidth": 0,
              "ticks": ""
             }
            },
            "type": "scatterternary"
           }
          ],
          "surface": [
           {
            "colorbar": {
             "outlinewidth": 0,
             "ticks": ""
            },
            "colorscale": [
             [
              0,
              "#0d0887"
             ],
             [
              0.1111111111111111,
              "#46039f"
             ],
             [
              0.2222222222222222,
              "#7201a8"
             ],
             [
              0.3333333333333333,
              "#9c179e"
             ],
             [
              0.4444444444444444,
              "#bd3786"
             ],
             [
              0.5555555555555556,
              "#d8576b"
             ],
             [
              0.6666666666666666,
              "#ed7953"
             ],
             [
              0.7777777777777778,
              "#fb9f3a"
             ],
             [
              0.8888888888888888,
              "#fdca26"
             ],
             [
              1,
              "#f0f921"
             ]
            ],
            "type": "surface"
           }
          ],
          "table": [
           {
            "cells": {
             "fill": {
              "color": "#EBF0F8"
             },
             "line": {
              "color": "white"
             }
            },
            "header": {
             "fill": {
              "color": "#C8D4E3"
             },
             "line": {
              "color": "white"
             }
            },
            "type": "table"
           }
          ]
         },
         "layout": {
          "annotationdefaults": {
           "arrowcolor": "#2a3f5f",
           "arrowhead": 0,
           "arrowwidth": 1
          },
          "autotypenumbers": "strict",
          "coloraxis": {
           "colorbar": {
            "outlinewidth": 0,
            "ticks": ""
           }
          },
          "colorscale": {
           "diverging": [
            [
             0,
             "#8e0152"
            ],
            [
             0.1,
             "#c51b7d"
            ],
            [
             0.2,
             "#de77ae"
            ],
            [
             0.3,
             "#f1b6da"
            ],
            [
             0.4,
             "#fde0ef"
            ],
            [
             0.5,
             "#f7f7f7"
            ],
            [
             0.6,
             "#e6f5d0"
            ],
            [
             0.7,
             "#b8e186"
            ],
            [
             0.8,
             "#7fbc41"
            ],
            [
             0.9,
             "#4d9221"
            ],
            [
             1,
             "#276419"
            ]
           ],
           "sequential": [
            [
             0,
             "#0d0887"
            ],
            [
             0.1111111111111111,
             "#46039f"
            ],
            [
             0.2222222222222222,
             "#7201a8"
            ],
            [
             0.3333333333333333,
             "#9c179e"
            ],
            [
             0.4444444444444444,
             "#bd3786"
            ],
            [
             0.5555555555555556,
             "#d8576b"
            ],
            [
             0.6666666666666666,
             "#ed7953"
            ],
            [
             0.7777777777777778,
             "#fb9f3a"
            ],
            [
             0.8888888888888888,
             "#fdca26"
            ],
            [
             1,
             "#f0f921"
            ]
           ],
           "sequentialminus": [
            [
             0,
             "#0d0887"
            ],
            [
             0.1111111111111111,
             "#46039f"
            ],
            [
             0.2222222222222222,
             "#7201a8"
            ],
            [
             0.3333333333333333,
             "#9c179e"
            ],
            [
             0.4444444444444444,
             "#bd3786"
            ],
            [
             0.5555555555555556,
             "#d8576b"
            ],
            [
             0.6666666666666666,
             "#ed7953"
            ],
            [
             0.7777777777777778,
             "#fb9f3a"
            ],
            [
             0.8888888888888888,
             "#fdca26"
            ],
            [
             1,
             "#f0f921"
            ]
           ]
          },
          "colorway": [
           "#636efa",
           "#EF553B",
           "#00cc96",
           "#ab63fa",
           "#FFA15A",
           "#19d3f3",
           "#FF6692",
           "#B6E880",
           "#FF97FF",
           "#FECB52"
          ],
          "font": {
           "color": "#2a3f5f"
          },
          "geo": {
           "bgcolor": "white",
           "lakecolor": "white",
           "landcolor": "#E5ECF6",
           "showlakes": true,
           "showland": true,
           "subunitcolor": "white"
          },
          "hoverlabel": {
           "align": "left"
          },
          "hovermode": "closest",
          "mapbox": {
           "style": "light"
          },
          "paper_bgcolor": "white",
          "plot_bgcolor": "#E5ECF6",
          "polar": {
           "angularaxis": {
            "gridcolor": "white",
            "linecolor": "white",
            "ticks": ""
           },
           "bgcolor": "#E5ECF6",
           "radialaxis": {
            "gridcolor": "white",
            "linecolor": "white",
            "ticks": ""
           }
          },
          "scene": {
           "xaxis": {
            "backgroundcolor": "#E5ECF6",
            "gridcolor": "white",
            "gridwidth": 2,
            "linecolor": "white",
            "showbackground": true,
            "ticks": "",
            "zerolinecolor": "white"
           },
           "yaxis": {
            "backgroundcolor": "#E5ECF6",
            "gridcolor": "white",
            "gridwidth": 2,
            "linecolor": "white",
            "showbackground": true,
            "ticks": "",
            "zerolinecolor": "white"
           },
           "zaxis": {
            "backgroundcolor": "#E5ECF6",
            "gridcolor": "white",
            "gridwidth": 2,
            "linecolor": "white",
            "showbackground": true,
            "ticks": "",
            "zerolinecolor": "white"
           }
          },
          "shapedefaults": {
           "line": {
            "color": "#2a3f5f"
           }
          },
          "ternary": {
           "aaxis": {
            "gridcolor": "white",
            "linecolor": "white",
            "ticks": ""
           },
           "baxis": {
            "gridcolor": "white",
            "linecolor": "white",
            "ticks": ""
           },
           "bgcolor": "#E5ECF6",
           "caxis": {
            "gridcolor": "white",
            "linecolor": "white",
            "ticks": ""
           }
          },
          "title": {
           "x": 0.05
          },
          "xaxis": {
           "automargin": true,
           "gridcolor": "white",
           "linecolor": "white",
           "ticks": "",
           "title": {
            "standoff": 15
           },
           "zerolinecolor": "white",
           "zerolinewidth": 2
          },
          "yaxis": {
           "automargin": true,
           "gridcolor": "white",
           "linecolor": "white",
           "ticks": "",
           "title": {
            "standoff": 15
           },
           "zerolinecolor": "white",
           "zerolinewidth": 2
          }
         }
        },
        "xaxis": {
         "anchor": "y",
         "domain": [
          0,
          1
         ],
         "title": {
          "text": "epi_zscore"
         }
        },
        "yaxis": {
         "anchor": "x",
         "domain": [
          0,
          1
         ],
         "title": {
          "text": "dys_zscore"
         }
        }
       }
      },
      "text/html": [
       "<div>                            <div id=\"5cf91425-0781-463a-b34b-8649b43cbe67\" class=\"plotly-graph-div\" style=\"height:525px; width:100%;\"></div>            <script type=\"text/javascript\">                require([\"plotly\"], function(Plotly) {                    window.PLOTLYENV=window.PLOTLYENV || {};                                    if (document.getElementById(\"5cf91425-0781-463a-b34b-8649b43cbe67\")) {                    Plotly.newPlot(                        \"5cf91425-0781-463a-b34b-8649b43cbe67\",                        [{\"hovertemplate\":\"x=%{x}<br>y=%{y}<br>text=%{text}<extra></extra>\",\"legendgroup\":\"\",\"marker\":{\"color\":\"#636efa\",\"symbol\":\"circle\"},\"mode\":\"markers\",\"name\":\"\",\"orientation\":\"v\",\"showlegend\":false,\"text\":[\"CREM0001155,ENSG00000067606\",\"CREM0003270,ENSG00000120949\",\"REM0019375,ENSG00000120949\",\"CREM0005826,ENSG00000020633\",\"REM0034680,ENSG00000020633\",\"REM0050281,ENSG00000134684\",\"REM0050390,ENSG00000134684\",\"CREM0010411,ENSG00000084070\",\"CREM0011665,ENSG00000117425\",\"CREM0011701,ENSG00000117425\",\"CREM0011733,ENSG00000117425\",\"CREM0012462,ENSG00000186564\",\"CREM0028317,ENSG00000163531\",\"REM0180429,ENSG00000174059\",\"CREM0029231,ENSG00000174059\",\"CREM0030870,ENSG00000196187\",\"CREM0038228,ENSG00000128815\",\"REM0257875,ENSG00000107745\",\"CREM0041764,ENSG00000122378\",\"CREM0041766,ENSG00000122378\",\"REM0272454,ENSG00000184719\",\"CREM0046915,ENSG00000166033\",\"CREM0046962,ENSG00000213185\",\"CREM0047767,ENSG00000151651\",\"CREM0047789,ENSG00000151651\",\"CREM0047790,ENSG00000151651\",\"CREM0048931,ENSG00000130592\",\"CREM0053052,ENSG00000149089\",\"CREM0057418,ENSG00000068971\",\"CREM0058965,ENSG00000175463\",\"REM0378354,ENSG00000172508\",\"CREM0059020,ENSG00000172725\",\"REM0391124,ENSG00000171533\",\"CREM0065577,ENSG00000198851\",\"CREM0066017,ENSG00000196655\",\"CREM0067077,ENSG00000165526\",\"CREM0070342,ENSG00000111796\",\"CREM0073025,ENSG00000174236\",\"CREM0074401,ENSG00000247774\",\"CREM0075158,ENSG00000134285\",\"CREM0075164,ENSG00000134285\",\"CREM0078676,ENSG00000111087\",\"REM0502181,ENSG00000135439\",\"CREM0083103,ENSG00000136011\",\"CREM0090189,ENSG00000132932\",\"REM0608044,ENSG00000065150\",\"REM0608066,ENSG00000065150\",\"CREM0097134,ENSG00000092036\",\"CREM0097493,ENSG00000100897\",\"CREM0097509,ENSG00000100897\",\"REM0657702,ENSG00000182107\",\"CREM0103726,ENSG00000279026\",\"CREM0111618,ENSG00000128928\",\"CREM0111642,ENSG00000128928\",\"REM0722662,ENSG00000128928\",\"CREM0111681,ENSG00000128928\",\"CREM0111682,ENSG00000128928\",\"CREM0121153,ENSG00000103942\",\"CREM0124589,ENSG00000090565\",\"CREM0124596,ENSG00000090565\",\"CREM0124701,ENSG00000090565\",\"CREM0124712,ENSG00000090565\",\"CREM0124714,ENSG00000090565\",\"CREM0124715,ENSG00000090565\",\"CREM0124772,ENSG00000140983\",\"REM0804913,ENSG00000172236\",\"CREM0125653,ENSG00000140988\",\"CREM0125692,ENSG00000065054\",\"CREM0126031,ENSG00000238098\",\"REM0810003,ENSG00000238098\",\"CREM0126096,ENSG00000162066\",\"CREM0130170,ENSG00000103544\",\"CREM0130235,ENSG00000103544\",\"CREM0132985,ENSG00000174939\",\"CREM0133609,ENSG00000005844\",\"CREM0133610,ENSG00000005844\",\"CREM0134147,ENSG00000140678\",\"CREM0134237,ENSG00000140678\",\"CREM0136004,ENSG00000125124\",\"CREM0136019,ENSG00000125124\",\"CREM0136046,ENSG00000125124\",\"CREM0137897,ENSG00000102977\",\"CREM0138200,ENSG00000167261\",\"CREM0139299,ENSG00000132613\",\"REM0910530,ENSG00000225614\",\"REM0910559,ENSG00000225614\",\"REM0910666,ENSG00000225614\",\"REM0910667,ENSG00000225614\",\"REM0912306,ENSG00000129993\",\"CREM0145911,ENSG00000129226\",\"CREM0145912,ENSG00000129226\",\"CREM0147571,ENSG00000276855\",\"CREM0154074,ENSG00000273604\",\"CREM0154594,ENSG00000161405\",\"CREM0158599,ENSG00000230148\",\"REM1008370,ENSG00000005882\",\"CREM0159311,ENSG00000005882\",\"CREM0159361,ENSG00000005882\",\"CREM0159530,ENSG00000006282\",\"CREM0162498,ENSG00000256525\",\"CREM0166026,ENSG00000173918\",\"CREM0166043,ENSG00000173918\",\"REM1048557,ENSG00000141570\",\"CREM0168163,ENSG00000170579\",\"CREM0171731,ENSG00000167220\",\"CREM0171780,ENSG00000167220\",\"CREM0174185,ENSG00000274828\",\"CREM0175323,ENSG00000079313\",\"CREM0175540,ENSG00000167476\",\"CREM0175540,ENSG00000188305\",\"CREM0175587,ENSG00000167476\",\"CREM0176411,ENSG00000007264\",\"CREM0177301,ENSG00000125657\",\"CREM0177342,ENSG00000125657\",\"CREM0181444,ENSG00000105122\",\"REM1152556,ENSG00000130300\",\"CREM0182521,ENSG00000130300\",\"CREM0182541,ENSG00000130300\",\"CREM0182548,ENSG00000130300\",\"CREM0182589,ENSG00000130300\",\"CREM0182758,ENSG00000130475\",\"REM1154488,ENSG00000130475\",\"CREM0182823,ENSG00000130475\",\"CREM0187001,ENSG00000105290\",\"CREM0189230,ENSG00000077312\",\"CREM0191761,ENSG00000104983\",\"CREM0193461,ENSG00000104894\",\"CREM0194562,ENSG00000160318\",\"CREM0196221,ENSG00000204577\",\"CREM0197760,ENSG00000105146\",\"CREM0198502,ENSG00000268912\",\"REM1255079,ENSG00000228784\",\"REM1266000,ENSG00000013016\",\"REM1266078,ENSG00000013016\",\"REM1292832,ENSG00000135636\",\"CREM0205738,ENSG00000065911\",\"CREM0205835,ENSG00000114993\",\"CREM0205839,ENSG00000114993\",\"CREM0205882,ENSG00000114993\",\"CREM0205903,ENSG00000114993\",\"CREM0205903,ENSG00000115274\",\"CREM0205921,ENSG00000114993\",\"CREM0206255,ENSG00000186854\",\"CREM0206277,ENSG00000186854\",\"REM1311103,ENSG00000115085\",\"CREM0212219,ENSG00000121966\",\"CREM0213973,ENSG00000138382\",\"CREM0215278,ENSG00000077232\",\"CREM0218628,ENSG00000072195\",\"CREM0219522,ENSG00000115053\",\"CREM0220424,ENSG00000178623\",\"REM1399479,ENSG00000178623\",\"CREM0220964,ENSG00000188389\",\"CREM0220987,ENSG00000188389\",\"CREM0220995,ENSG00000188389\",\"CREM0227962,ENSG00000158445\",\"CREM0229779,ENSG00000232442\",\"CREM0229825,ENSG00000232442\",\"CREM0231731,ENSG00000156299\",\"CREM0239513,ENSG00000100285\",\"CREM0239514,ENSG00000100285\",\"CREM0241137,ENSG00000100368\",\"REM1529005,ENSG00000100368\",\"CREM0241233,ENSG00000100368\",\"REM1542041,ENSG00000100294\",\"CREM0244842,ENSG00000130487\",\"CREM0249789,ENSG00000173578\",\"CREM0251089,ENSG00000173531\",\"CREM0252259,ENSG00000162267\",\"CREM0252337,ENSG00000162267\",\"CREM0252357,ENSG00000162267\",\"CREM0276705,ENSG00000109794\",\"CREM0277864,ENSG00000259802\",\"CREM0277865,ENSG00000259802\",\"CREM0277924,ENSG00000259802\",\"REM1800851,ENSG00000177721\",\"CREM0286647,ENSG00000164406\",\"REM1859807,ENSG00000120709\",\"CREM0287674,ENSG00000120709\",\"CREM0287941,ENSG00000170476\",\"CREM0288625,ENSG00000112852\",\"CREM0288663,ENSG00000112852\",\"REM1869393,ENSG00000113555\",\"CREM0290898,ENSG00000113263\",\"CREM0293302,ENSG00000127022\",\"CREM0299170,ENSG00000204388\",\"CREM0299892,ENSG00000241106\",\"REM2049382,ENSG00000106125\",\"REM2063150,ENSG00000185811\",\"CREM0316959,ENSG00000185811\",\"REM2095822,ENSG00000241468\",\"REM2095823,ENSG00000241468\",\"REM2102469,ENSG00000257923\",\"REM2128059,ENSG00000157680\",\"CREM0335803,ENSG00000156103\",\"REM2190224,ENSG00000156103\",\"REM2199716,ENSG00000034677\",\"CREM0337826,ENSG00000164932\",\"CREM0339947,ENSG00000181790\",\"CREM0340811,ENSG00000255182\",\"CREM0349192,ENSG00000136874\",\"CREM0352604,ENSG00000107021\",\"REM2313492,ENSG00000107290\",\"CREM0364642,ENSG00000102119\"],\"x\":[-0.11375354798439899,-1.2502914140546608,0.295062908302983,-0.02150910232643232,0.28325987045533574,0.769501159069461,-0.1813839782129087,0.9365542382721791,-0.059848601654263485,0.9711098367818984,-0.20000808729788602,-0.18766065710273283,-0.12286529050800929,1.1492770128486147,3.412610766916904,0.22601231544317113,0.11251104175549596,-1.271437427075109,-1.3760932204776484,-1.0314303882045408,1.6361711957531946,-0.1486080220030917,0.037397156791155475,0.07344922997030445,0.3781634772042498,-0.028535789843839678,-0.4562049272968172,0.11605558058841572,-0.0963970017947162,2.6894794911249504,-0.08955982458963074,-0.02340392303770242,-0.8247880840268977,0.013933049589636133,-0.5856801126170497,-0.1394930808904652,0.37964330990567574,0.08492415140862651,-0.38220256946095527,-0.11465664504360622,-0.06932324134525161,-2.352529715014815,0.07798735502509692,-0.7289233608725182,-1.79142811373901,-0.2015037655135864,-0.3147144510586958,-1.2919975818402147,0.4815326693506826,0.03629383985693185,0.44941407046838955,0.3677278599406344,0.2585228999570983,0.14983904848031157,-1.4462690224682695,-1.4975106683185633,1.131740960938685,1.061574942201205,-0.07330229755570296,0.33455048794128456,-0.11409471280401035,-0.1520546473264648,-0.12282539549860305,-0.10446543285388032,-0.8621059275809241,0.040490360923046274,-0.8626406876653437,3.1016759150500763,0.21171862784743495,-2.2393552232971974,-0.0792235106915924,0.04736855682520702,1.0892402427522503,-0.003206161173002661,-0.35813871374419787,-0.24465078364835802,0.03213624694166914,-0.6071053007314798,0.1411730143048982,-0.9672355477244687,0.6244288252654241,0.40149557574870187,0.37301577778547873,0.02675387009695098,0.7175310319175141,1.1718967978733907,-1.3906419119137858,-0.4679022534594719,0.04587724821121246,-0.04779135822780715,-0.22441534426081097,-0.5993418393400953,0.9873573376771715,-0.16281008621640589,-0.39203186642016763,0.12890448312232367,0.47794029444849684,-0.2672779049870702,1.0505830000148435,-0.16724387666052376,-0.22571107164287516,-0.422909586646547,-1.9533157382626145,2.597005905521951,0.24109067223767447,0.5294900439979272,0.8037298110188495,-0.15777155101562013,0.06143753322584189,0.5335855268932735,-0.06089553885526295,0.25087294776746055,-0.05245793793247973,2.1731855848122366,1.0166891633491897,-0.0241986133927274,-0.3761603459699671,-0.697045918642248,0.18957098777210063,0.6918317313892763,-0.4970947317699731,0.7964568436495084,-0.5116168820504027,-0.2151797849952363,0.22604096860756118,-0.21231284220728794,0.32870992738075117,-0.1253129570862605,-0.4669032208458559,0.2435468117003874,0.08696382209264533,-0.012606513103539295,-0.15253842536422432,-0.23004571266484095,-1.708525614449757,-1.0156556852515821,-0.5548598919690725,1.4141357353297825,-0.5091721114158015,-0.36316087387452456,0.9579065000411804,-3.0308510678767018,0.2604207008385934,0.03253468885869757,-0.03756816157863812,-0.36238300176537036,0.27678991468967434,0.08441799791863276,0.7083157715428069,-0.24492573105571344,0.4404866582154589,-0.1252337644780268,0.4509361081522532,-0.037094483920318985,0.22655999902438811,-2.790379382700636,0.9881729105129075,0.9245640033031411,-0.7443580326856174,-0.13157098625161978,0.14432049220735277,0.025353457953031174,0.23364310308584685,-0.13358767202016716,-0.7572347791596307,3.104660598834637,-0.715054545964053,0.11369401595350306,-0.9185537981078826,0.14904217805815925,-0.06421286065480641,-0.42696526968055376,-0.5702728808531673,-0.6347810261695677,1.301970098064149,-0.4342058577719679,-0.21304706750015495,-0.0820836650009453,-0.0872898204704974,-0.8003596190456713,-1.366139352743919,0.2528276782942546,-1.927096646068758,-0.3209893797272571,-1.1256909508733435,-0.22856889401059205,-0.05020791046627432,-0.5823948657260981,-0.23350387162762323,0.5354457410192505,-0.45745826985423715,-0.04155856097567409,-0.16065430962151747,-0.416346292226157,0.3077846629936295,7.059873313493532,-0.5276635511792312,-0.10290780089031794,1.0711462012283803,0.1765396525191288,-0.05998195786308018,-0.03184701626740762,-0.881446024406847,0.7161554814067241],\"xaxis\":\"x\",\"y\":[0.0,0.0,0.0,0.0,0.0,0.0,0.0,0.0,0.0,0.0,0.0,0.0,0.0,0.0,0.0,0.0,0.0,0.0,0.0,0.0,4.3,0.0,0.0,0.0,0.0,0.0,0.0,0.0,0.0,0.0,0.0,0.0,0.0,0.0,0.0,0.0,0.0,0.0,0.0,0.0,0.0,0.0,0.0,0.0,0.0,0.0,0.0,0.0,4.8,0.0,7.6,0.0,0.0,0.0,0.0,0.0,0.0,0.0,0.0,0.0,0.0,0.0,0.0,0.0,0.0,0.0,0.0,0.0,0.0,0.0,0.0,0.0,0.0,0.0,0.0,0.0,0.0,0.0,0.0,0.0,0.0,0.0,0.0,0.0,0.0,0.0,0.0,0.0,0.0,0.0,0.0,0.0,6.9,0.0,0.0,0.0,0.0,0.0,0.0,0.0,0.0,0.0,0.0,0.0,0.0,0.0,0.0,0.0,0.0,0.0,0.0,0.0,0.0,0.0,0.0,0.0,0.0,0.0,0.0,0.0,0.0,0.0,0.0,0.0,0.0,0.0,0.0,0.0,0.0,0.0,0.0,0.0,0.0,0.0,0.0,0.0,0.0,0.0,0.0,0.0,0.0,0.0,0.0,0.0,0.0,0.0,0.0,0.0,0.0,0.0,0.0,0.0,0.0,0.0,0.0,0.0,0.0,0.0,0.0,0.0,0.0,0.0,0.0,0.0,0.0,0.0,0.0,0.0,0.0,0.0,0.0,0.0,0.0,6.1,6.1,0.0,0.0,0.0,0.0,0.0,0.0,0.0,0.0,0.0,0.0,0.0,0.0,0.0,0.0,0.0,0.0,4.4,0.0,0.0,0.0,0.0,0.0,0.0,0.0,0.0,0.0,0.0,0.0,0.0],\"yaxis\":\"y\",\"type\":\"scatter\"}],                        {\"template\":{\"data\":{\"histogram2dcontour\":[{\"type\":\"histogram2dcontour\",\"colorbar\":{\"outlinewidth\":0,\"ticks\":\"\"},\"colorscale\":[[0.0,\"#0d0887\"],[0.1111111111111111,\"#46039f\"],[0.2222222222222222,\"#7201a8\"],[0.3333333333333333,\"#9c179e\"],[0.4444444444444444,\"#bd3786\"],[0.5555555555555556,\"#d8576b\"],[0.6666666666666666,\"#ed7953\"],[0.7777777777777778,\"#fb9f3a\"],[0.8888888888888888,\"#fdca26\"],[1.0,\"#f0f921\"]]}],\"choropleth\":[{\"type\":\"choropleth\",\"colorbar\":{\"outlinewidth\":0,\"ticks\":\"\"}}],\"histogram2d\":[{\"type\":\"histogram2d\",\"colorbar\":{\"outlinewidth\":0,\"ticks\":\"\"},\"colorscale\":[[0.0,\"#0d0887\"],[0.1111111111111111,\"#46039f\"],[0.2222222222222222,\"#7201a8\"],[0.3333333333333333,\"#9c179e\"],[0.4444444444444444,\"#bd3786\"],[0.5555555555555556,\"#d8576b\"],[0.6666666666666666,\"#ed7953\"],[0.7777777777777778,\"#fb9f3a\"],[0.8888888888888888,\"#fdca26\"],[1.0,\"#f0f921\"]]}],\"heatmap\":[{\"type\":\"heatmap\",\"colorbar\":{\"outlinewidth\":0,\"ticks\":\"\"},\"colorscale\":[[0.0,\"#0d0887\"],[0.1111111111111111,\"#46039f\"],[0.2222222222222222,\"#7201a8\"],[0.3333333333333333,\"#9c179e\"],[0.4444444444444444,\"#bd3786\"],[0.5555555555555556,\"#d8576b\"],[0.6666666666666666,\"#ed7953\"],[0.7777777777777778,\"#fb9f3a\"],[0.8888888888888888,\"#fdca26\"],[1.0,\"#f0f921\"]]}],\"heatmapgl\":[{\"type\":\"heatmapgl\",\"colorbar\":{\"outlinewidth\":0,\"ticks\":\"\"},\"colorscale\":[[0.0,\"#0d0887\"],[0.1111111111111111,\"#46039f\"],[0.2222222222222222,\"#7201a8\"],[0.3333333333333333,\"#9c179e\"],[0.4444444444444444,\"#bd3786\"],[0.5555555555555556,\"#d8576b\"],[0.6666666666666666,\"#ed7953\"],[0.7777777777777778,\"#fb9f3a\"],[0.8888888888888888,\"#fdca26\"],[1.0,\"#f0f921\"]]}],\"contourcarpet\":[{\"type\":\"contourcarpet\",\"colorbar\":{\"outlinewidth\":0,\"ticks\":\"\"}}],\"contour\":[{\"type\":\"contour\",\"colorbar\":{\"outlinewidth\":0,\"ticks\":\"\"},\"colorscale\":[[0.0,\"#0d0887\"],[0.1111111111111111,\"#46039f\"],[0.2222222222222222,\"#7201a8\"],[0.3333333333333333,\"#9c179e\"],[0.4444444444444444,\"#bd3786\"],[0.5555555555555556,\"#d8576b\"],[0.6666666666666666,\"#ed7953\"],[0.7777777777777778,\"#fb9f3a\"],[0.8888888888888888,\"#fdca26\"],[1.0,\"#f0f921\"]]}],\"surface\":[{\"type\":\"surface\",\"colorbar\":{\"outlinewidth\":0,\"ticks\":\"\"},\"colorscale\":[[0.0,\"#0d0887\"],[0.1111111111111111,\"#46039f\"],[0.2222222222222222,\"#7201a8\"],[0.3333333333333333,\"#9c179e\"],[0.4444444444444444,\"#bd3786\"],[0.5555555555555556,\"#d8576b\"],[0.6666666666666666,\"#ed7953\"],[0.7777777777777778,\"#fb9f3a\"],[0.8888888888888888,\"#fdca26\"],[1.0,\"#f0f921\"]]}],\"mesh3d\":[{\"type\":\"mesh3d\",\"colorbar\":{\"outlinewidth\":0,\"ticks\":\"\"}}],\"scatter\":[{\"fillpattern\":{\"fillmode\":\"overlay\",\"size\":10,\"solidity\":0.2},\"type\":\"scatter\"}],\"parcoords\":[{\"type\":\"parcoords\",\"line\":{\"colorbar\":{\"outlinewidth\":0,\"ticks\":\"\"}}}],\"scatterpolargl\":[{\"type\":\"scatterpolargl\",\"marker\":{\"colorbar\":{\"outlinewidth\":0,\"ticks\":\"\"}}}],\"bar\":[{\"error_x\":{\"color\":\"#2a3f5f\"},\"error_y\":{\"color\":\"#2a3f5f\"},\"marker\":{\"line\":{\"color\":\"#E5ECF6\",\"width\":0.5},\"pattern\":{\"fillmode\":\"overlay\",\"size\":10,\"solidity\":0.2}},\"type\":\"bar\"}],\"scattergeo\":[{\"type\":\"scattergeo\",\"marker\":{\"colorbar\":{\"outlinewidth\":0,\"ticks\":\"\"}}}],\"scatterpolar\":[{\"type\":\"scatterpolar\",\"marker\":{\"colorbar\":{\"outlinewidth\":0,\"ticks\":\"\"}}}],\"histogram\":[{\"marker\":{\"pattern\":{\"fillmode\":\"overlay\",\"size\":10,\"solidity\":0.2}},\"type\":\"histogram\"}],\"scattergl\":[{\"type\":\"scattergl\",\"marker\":{\"colorbar\":{\"outlinewidth\":0,\"ticks\":\"\"}}}],\"scatter3d\":[{\"type\":\"scatter3d\",\"line\":{\"colorbar\":{\"outlinewidth\":0,\"ticks\":\"\"}},\"marker\":{\"colorbar\":{\"outlinewidth\":0,\"ticks\":\"\"}}}],\"scattermapbox\":[{\"type\":\"scattermapbox\",\"marker\":{\"colorbar\":{\"outlinewidth\":0,\"ticks\":\"\"}}}],\"scatterternary\":[{\"type\":\"scatterternary\",\"marker\":{\"colorbar\":{\"outlinewidth\":0,\"ticks\":\"\"}}}],\"scattercarpet\":[{\"type\":\"scattercarpet\",\"marker\":{\"colorbar\":{\"outlinewidth\":0,\"ticks\":\"\"}}}],\"carpet\":[{\"aaxis\":{\"endlinecolor\":\"#2a3f5f\",\"gridcolor\":\"white\",\"linecolor\":\"white\",\"minorgridcolor\":\"white\",\"startlinecolor\":\"#2a3f5f\"},\"baxis\":{\"endlinecolor\":\"#2a3f5f\",\"gridcolor\":\"white\",\"linecolor\":\"white\",\"minorgridcolor\":\"white\",\"startlinecolor\":\"#2a3f5f\"},\"type\":\"carpet\"}],\"table\":[{\"cells\":{\"fill\":{\"color\":\"#EBF0F8\"},\"line\":{\"color\":\"white\"}},\"header\":{\"fill\":{\"color\":\"#C8D4E3\"},\"line\":{\"color\":\"white\"}},\"type\":\"table\"}],\"barpolar\":[{\"marker\":{\"line\":{\"color\":\"#E5ECF6\",\"width\":0.5},\"pattern\":{\"fillmode\":\"overlay\",\"size\":10,\"solidity\":0.2}},\"type\":\"barpolar\"}],\"pie\":[{\"automargin\":true,\"type\":\"pie\"}]},\"layout\":{\"autotypenumbers\":\"strict\",\"colorway\":[\"#636efa\",\"#EF553B\",\"#00cc96\",\"#ab63fa\",\"#FFA15A\",\"#19d3f3\",\"#FF6692\",\"#B6E880\",\"#FF97FF\",\"#FECB52\"],\"font\":{\"color\":\"#2a3f5f\"},\"hovermode\":\"closest\",\"hoverlabel\":{\"align\":\"left\"},\"paper_bgcolor\":\"white\",\"plot_bgcolor\":\"#E5ECF6\",\"polar\":{\"bgcolor\":\"#E5ECF6\",\"angularaxis\":{\"gridcolor\":\"white\",\"linecolor\":\"white\",\"ticks\":\"\"},\"radialaxis\":{\"gridcolor\":\"white\",\"linecolor\":\"white\",\"ticks\":\"\"}},\"ternary\":{\"bgcolor\":\"#E5ECF6\",\"aaxis\":{\"gridcolor\":\"white\",\"linecolor\":\"white\",\"ticks\":\"\"},\"baxis\":{\"gridcolor\":\"white\",\"linecolor\":\"white\",\"ticks\":\"\"},\"caxis\":{\"gridcolor\":\"white\",\"linecolor\":\"white\",\"ticks\":\"\"}},\"coloraxis\":{\"colorbar\":{\"outlinewidth\":0,\"ticks\":\"\"}},\"colorscale\":{\"sequential\":[[0.0,\"#0d0887\"],[0.1111111111111111,\"#46039f\"],[0.2222222222222222,\"#7201a8\"],[0.3333333333333333,\"#9c179e\"],[0.4444444444444444,\"#bd3786\"],[0.5555555555555556,\"#d8576b\"],[0.6666666666666666,\"#ed7953\"],[0.7777777777777778,\"#fb9f3a\"],[0.8888888888888888,\"#fdca26\"],[1.0,\"#f0f921\"]],\"sequentialminus\":[[0.0,\"#0d0887\"],[0.1111111111111111,\"#46039f\"],[0.2222222222222222,\"#7201a8\"],[0.3333333333333333,\"#9c179e\"],[0.4444444444444444,\"#bd3786\"],[0.5555555555555556,\"#d8576b\"],[0.6666666666666666,\"#ed7953\"],[0.7777777777777778,\"#fb9f3a\"],[0.8888888888888888,\"#fdca26\"],[1.0,\"#f0f921\"]],\"diverging\":[[0,\"#8e0152\"],[0.1,\"#c51b7d\"],[0.2,\"#de77ae\"],[0.3,\"#f1b6da\"],[0.4,\"#fde0ef\"],[0.5,\"#f7f7f7\"],[0.6,\"#e6f5d0\"],[0.7,\"#b8e186\"],[0.8,\"#7fbc41\"],[0.9,\"#4d9221\"],[1,\"#276419\"]]},\"xaxis\":{\"gridcolor\":\"white\",\"linecolor\":\"white\",\"ticks\":\"\",\"title\":{\"standoff\":15},\"zerolinecolor\":\"white\",\"automargin\":true,\"zerolinewidth\":2},\"yaxis\":{\"gridcolor\":\"white\",\"linecolor\":\"white\",\"ticks\":\"\",\"title\":{\"standoff\":15},\"zerolinecolor\":\"white\",\"automargin\":true,\"zerolinewidth\":2},\"scene\":{\"xaxis\":{\"backgroundcolor\":\"#E5ECF6\",\"gridcolor\":\"white\",\"linecolor\":\"white\",\"showbackground\":true,\"ticks\":\"\",\"zerolinecolor\":\"white\",\"gridwidth\":2},\"yaxis\":{\"backgroundcolor\":\"#E5ECF6\",\"gridcolor\":\"white\",\"linecolor\":\"white\",\"showbackground\":true,\"ticks\":\"\",\"zerolinecolor\":\"white\",\"gridwidth\":2},\"zaxis\":{\"backgroundcolor\":\"#E5ECF6\",\"gridcolor\":\"white\",\"linecolor\":\"white\",\"showbackground\":true,\"ticks\":\"\",\"zerolinecolor\":\"white\",\"gridwidth\":2}},\"shapedefaults\":{\"line\":{\"color\":\"#2a3f5f\"}},\"annotationdefaults\":{\"arrowcolor\":\"#2a3f5f\",\"arrowhead\":0,\"arrowwidth\":1},\"geo\":{\"bgcolor\":\"white\",\"landcolor\":\"#E5ECF6\",\"subunitcolor\":\"white\",\"showland\":true,\"showlakes\":true,\"lakecolor\":\"white\"},\"title\":{\"x\":0.05},\"mapbox\":{\"style\":\"light\"}}},\"xaxis\":{\"anchor\":\"y\",\"domain\":[0.0,1.0],\"title\":{\"text\":\"epi_zscore\"}},\"yaxis\":{\"anchor\":\"x\",\"domain\":[0.0,1.0],\"title\":{\"text\":\"dys_zscore\"}},\"legend\":{\"tracegroupgap\":0},\"margin\":{\"t\":60}},                        {\"responsive\": true}                    ).then(function(){\n",
       "                            \n",
       "var gd = document.getElementById('5cf91425-0781-463a-b34b-8649b43cbe67');\n",
       "var x = new MutationObserver(function (mutations, observer) {{\n",
       "        var display = window.getComputedStyle(gd).display;\n",
       "        if (!display || display === 'none') {{\n",
       "            console.log([gd, 'removed!']);\n",
       "            Plotly.purge(gd);\n",
       "            observer.disconnect();\n",
       "        }}\n",
       "}});\n",
       "\n",
       "// Listen for the removal of the full notebook cells\n",
       "var notebookContainer = gd.closest('#notebook-container');\n",
       "if (notebookContainer) {{\n",
       "    x.observe(notebookContainer, {childList: true});\n",
       "}}\n",
       "\n",
       "// Listen for the clearing of the current output cell\n",
       "var outputEl = gd.closest('.output');\n",
       "if (outputEl) {{\n",
       "    x.observe(outputEl, {childList: true});\n",
       "}}\n",
       "\n",
       "                        })                };                });            </script>        </div>"
      ]
     },
     "metadata": {},
     "output_type": "display_data"
    }
   ],
   "source": [
    "\n",
    "fig = px.scatter(x= epi_zscores, y=dys_zscores, text=list(dys_edges.keys()))\n",
    "fig.update_layout(\n",
    "    xaxis_title=\"epi_zscore\", yaxis_title=\"dys_zscore\"\n",
    ")\n",
    "fig.update_traces(mode=\"markers\")\n",
    "    \n",
    "fig.show()"
   ]
  },
  {
   "cell_type": "code",
   "execution_count": 64,
   "id": "5b9ecb4f",
   "metadata": {},
   "outputs": [
    {
     "data": {
      "image/png": "[encoded data removed]",
      "text/plain": [
       "<Figure size 640x480 with 1 Axes>"
      ]
     },
     "metadata": {},
     "output_type": "display_data"
    }
   ],
   "source": [
    "zscores = stats.zscore(epi_edges_vals)\n",
    "plt.hist(zscores)\n",
    "\n",
    "plt.show()"
   ]
  }
 ],
 "metadata": {
  "kernelspec": {
   "display_name": "Python 3 (ipykernel)",
   "language": "python",
   "name": "python3"
  },
  "language_info": {
   "codemirror_mode": {
    "name": "ipython",
    "version": 3
   },
   "file_extension": ".py",
   "mimetype": "text/x-python",
   "name": "python",
   "nbconvert_exporter": "python",
   "pygments_lexer": "ipython3",
   "version": "3.9.16"
  }
 },
 "nbformat": 4,
 "nbformat_minor": 5
}
