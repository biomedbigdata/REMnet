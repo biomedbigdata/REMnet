{
 "cells": [
  {
   "cell_type": "code",
   "execution_count": 1,
   "id": "924afb33",
   "metadata": {},
   "outputs": [],
   "source": [
    "from graph_tool import *\n",
    "from tqdm import tqdm\n",
    "import csv"
   ]
  },
  {
   "cell_type": "code",
   "execution_count": null,
   "id": "c162148e",
   "metadata": {},
   "outputs": [],
   "source": [
    "# check if all edges are the same in all samples\n",
    "d = dict()\n",
    "with open('../data/REMActivity_1.csv') as file:\n",
    "    reader = csv.reader(file)\n",
    "    counter = 0\n",
    "    for row in tqdm(reader):\n",
    "        if row[0] != \"REMID\":\n",
    "            if d.get(row[1]) != None:\n",
    "                d[row[1]].add(row[0])\n",
    "            else:\n",
    "                d[row[1]] = {row[0]}\n",
    "        \n",
    "check = list(d.values())[0]\n",
    "for k in d.keys():\n",
    "#     print(k)\n",
    "    if  len(check.difference(d.get(k))) != 0:\n",
    "        print(k)"
   ]
  },
  {
   "cell_type": "code",
   "execution_count": 2,
   "id": "0e4056eb",
   "metadata": {},
   "outputs": [],
   "source": [
    "celltype_dict = dict()\n",
    "with open('../data/sampleToCelltype.csv') as sampleToCelltype:\n",
    "    reader = csv.reader(sampleToCelltype)\n",
    "    for row in reader:\n",
    "        if row[0] != \"sampleID\":\n",
    "            celltype_dict[row[0]] = [row[1], row[2]]"
   ]
  },
  {
   "cell_type": "code",
   "execution_count": 4,
   "id": "3000769d",
   "metadata": {},
   "outputs": [
    {
     "ename": "FileNotFoundError",
     "evalue": "[Errno 2] No such file or directory: '../data/REMActivity_1.csv'",
     "output_type": "error",
     "traceback": [
      "\u001B[0;31m---------------------------------------------------------------------------\u001B[0m",
      "\u001B[0;31mFileNotFoundError\u001B[0m                         Traceback (most recent call last)",
      "Cell \u001B[0;32mIn[4], line 2\u001B[0m\n\u001B[1;32m      1\u001B[0m rem_dict \u001B[38;5;241m=\u001B[39m \u001B[38;5;28mdict\u001B[39m()\n\u001B[0;32m----> 2\u001B[0m \u001B[38;5;28;01mwith\u001B[39;00m \u001B[38;5;28;43mopen\u001B[39;49m\u001B[43m(\u001B[49m\u001B[38;5;124;43m'\u001B[39;49m\u001B[38;5;124;43m../data/REMActivity_1.csv\u001B[39;49m\u001B[38;5;124;43m'\u001B[39;49m\u001B[43m)\u001B[49m \u001B[38;5;28;01mas\u001B[39;00m file_1:\u001B[38;5;66;03m# TODO: mehrere samples aus celltype hinzufügen, bis jetzt nur für 1 gemacht\u001B[39;00m\n\u001B[1;32m      3\u001B[0m     reader_1 \u001B[38;5;241m=\u001B[39m csv\u001B[38;5;241m.\u001B[39mreader(file_1)\n\u001B[1;32m      4\u001B[0m     \u001B[38;5;28;01mfor\u001B[39;00m r \u001B[38;5;129;01min\u001B[39;00m tqdm(reader_1):\n",
      "File \u001B[0;32m~/miniconda3/envs/rem/lib/python3.10/site-packages/IPython/core/interactiveshell.py:282\u001B[0m, in \u001B[0;36m_modified_open\u001B[0;34m(file, *args, **kwargs)\u001B[0m\n\u001B[1;32m    275\u001B[0m \u001B[38;5;28;01mif\u001B[39;00m file \u001B[38;5;129;01min\u001B[39;00m {\u001B[38;5;241m0\u001B[39m, \u001B[38;5;241m1\u001B[39m, \u001B[38;5;241m2\u001B[39m}:\n\u001B[1;32m    276\u001B[0m     \u001B[38;5;28;01mraise\u001B[39;00m \u001B[38;5;167;01mValueError\u001B[39;00m(\n\u001B[1;32m    277\u001B[0m         \u001B[38;5;124mf\u001B[39m\u001B[38;5;124m\"\u001B[39m\u001B[38;5;124mIPython won\u001B[39m\u001B[38;5;124m'\u001B[39m\u001B[38;5;124mt let you open fd=\u001B[39m\u001B[38;5;132;01m{\u001B[39;00mfile\u001B[38;5;132;01m}\u001B[39;00m\u001B[38;5;124m by default \u001B[39m\u001B[38;5;124m\"\u001B[39m\n\u001B[1;32m    278\u001B[0m         \u001B[38;5;124m\"\u001B[39m\u001B[38;5;124mas it is likely to crash IPython. If you know what you are doing, \u001B[39m\u001B[38;5;124m\"\u001B[39m\n\u001B[1;32m    279\u001B[0m         \u001B[38;5;124m\"\u001B[39m\u001B[38;5;124myou can use builtins\u001B[39m\u001B[38;5;124m'\u001B[39m\u001B[38;5;124m open.\u001B[39m\u001B[38;5;124m\"\u001B[39m\n\u001B[1;32m    280\u001B[0m     )\n\u001B[0;32m--> 282\u001B[0m \u001B[38;5;28;01mreturn\u001B[39;00m \u001B[43mio_open\u001B[49m\u001B[43m(\u001B[49m\u001B[43mfile\u001B[49m\u001B[43m,\u001B[49m\u001B[43m \u001B[49m\u001B[38;5;241;43m*\u001B[39;49m\u001B[43margs\u001B[49m\u001B[43m,\u001B[49m\u001B[43m \u001B[49m\u001B[38;5;241;43m*\u001B[39;49m\u001B[38;5;241;43m*\u001B[39;49m\u001B[43mkwargs\u001B[49m\u001B[43m)\u001B[49m\n",
      "\u001B[0;31mFileNotFoundError\u001B[0m: [Errno 2] No such file or directory: '../data/REMActivity_1.csv'"
     ]
    }
   ],
   "source": [
    "rem_dict = dict()\n",
    "with open('../data/REMActivity_1.csv') as file_1:# TODO: mehrere samples aus celltype hinzufügen, bis jetzt nur für 1 gemacht\n",
    "    reader_1 = csv.reader(file_1)\n",
    "    for r in tqdm(reader_1):\n",
    "        if r[1] == \"B_S00DFM11\":\n",
    "            rem_dict[r[0]] = [r[1], r[3]]"
   ]
  },
  {
   "cell_type": "code",
   "execution_count": null,
   "id": "14b69350",
   "metadata": {},
   "outputs": [],
   "source": [
    "g = Graph()\n",
    "name = g.new_vp(\"string\")\n",
    "g.vp.name = name\n",
    "type = g.new_vp(\"string\")\n",
    "g.vp.type = type\n",
    "standDnase1Log2 = g.new_ep(\"double\")\n",
    "g.edge_properties[\"standDnase1Log2\"] = standDnase1Log2\n",
    "celltypeID = g.new_ep(\"string\")\n",
    "g.edge_properties[\"celltypeID\"] = celltypeID\n",
    "celltype = g.new_ep(\"string\")\n",
    "g.edge_properties[\"celltype\"] = celltype\n",
    "sampleID = g.new_ep(\"string\")\n",
    "g.edge_properties[\"sampleID\"] = sampleID\n",
    "\n",
    "done_proteins_dict = {}\n",
    "with open('../data/REMAnnotationModelScore_1.csv') as file:\n",
    "    reader = csv.reader(file)\n",
    "    for row in tqdm(reader):\n",
    "        if row[1] != \"start\":\n",
    "            v1 = g.add_vertex()\n",
    "            g.vp.name[v1] = row[4]\n",
    "            g.vp.type[v1] = \"REM\"\n",
    "\n",
    "            if done_proteins_dict.get(row[3]) == None:\n",
    "                v2 = g.add_vertex()\n",
    "                g.vp.name[v2] = row[3]\n",
    "                g.vp.type[v2] = \"Gene\"\n",
    "                done_proteins_dict[row[3]] = int(v2)\n",
    "            else:\n",
    "                v2 = g.vertex(done_proteins_dict.get(row[3]))\n",
    "            \n",
    "            e = g.add_edge(v1, v2)\n",
    "            g.ep.standDnase1Log2[e] = rem_dict.get(row[4])[1]\n",
    "            g.ep.celltypeID[e] = celltype_dict.get(rem_dict.get(row[4])[0])[0]\n",
    "            g.ep.celltype[e] = celltype_dict.get(rem_dict.get(row[4])[0])[1]\n",
    "            g.ep.sampleID[e] = rem_dict.get(row[4])[0]\n"
   ]
  },
  {
   "cell_type": "code",
   "execution_count": null,
   "id": "b854c13f",
   "metadata": {},
   "outputs": [],
   "source": [
    "g.save(\"../data/graph-tool/specificCelltypeGraph_B_S00DFM11.gt\")"
   ]
  },
  {
   "cell_type": "code",
   "execution_count": null,
   "id": "79db5c60",
   "metadata": {},
   "outputs": [],
   "source": [
    "gr = load_graph(\"../data/graph-tool/specificCelltypeGraph_B_S00DFM11.gt\")"
   ]
  },
  {
   "cell_type": "code",
   "execution_count": null,
   "id": "843eea87",
   "metadata": {},
   "outputs": [],
   "source": [
    "gr.list_properties()\n",
    "rowCountv = sum(1 for e in gr.vertices())\n",
    "rowCounte = sum(1 for e in gr.edges())\n",
    "print(\"Nodes: \"+str(rowCountv))\n",
    "print(\"Edges: \"+str(rowCounte))"
   ]
  },
  {
   "cell_type": "code",
   "execution_count": null,
   "id": "7a612c84",
   "metadata": {},
   "outputs": [],
   "source": [
    "with open('../data/REMActivity_1.csv') as file:\n",
    "    reader = csv.reader(file)\n",
    "    counter = 0\n",
    "    for row in tqdm(reader):\n",
    "        print(row)\n",
    "        counter += 1\n",
    "        if(counter == 200):\n",
    "            break"
   ]
  }
 ],
 "metadata": {
  "kernelspec": {
   "display_name": "Python 3 (ipykernel)",
   "language": "python",
   "name": "python3"
  },
  "language_info": {
   "codemirror_mode": {
    "name": "ipython",
    "version": 3
   },
   "file_extension": ".py",
   "mimetype": "text/x-python",
   "name": "python",
   "nbconvert_exporter": "python",
   "pygments_lexer": "ipython3",
   "version": "3.11.0"
  }
 },
 "nbformat": 4,
 "nbformat_minor": 5
}
