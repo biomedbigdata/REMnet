{
 "cells": [
  {
   "cell_type": "code",
   "execution_count": null,
   "id": "924afb33",
   "metadata": {},
   "outputs": [],
   "source": [
    "from graph_tool.all import *\n",
    "from tqdm import tqdm\n",
    "import csv"
   ]
  },
  {
   "cell_type": "code",
   "execution_count": null,
   "id": "c162148e",
   "metadata": {},
   "outputs": [],
   "source": [
    "# check if all edges are the same in all samples\n",
    "d = dict()\n",
    "with open('../data/REMActivity_1.csv') as file:\n",
    "    reader = csv.reader(file)\n",
    "    counter = 0\n",
    "    for row in tqdm(reader):\n",
    "        if row[0] != \"REMID\":\n",
    "            if d.get(row[1]) != None:\n",
    "                d[row[1]].add(row[0])\n",
    "            else:\n",
    "                d[row[1]] = {row[0]}\n",
    "        \n",
    "check = list(d.values())[0]\n",
    "for k in d.keys():\n",
    "#     print(k)\n",
    "    if  len(check.difference(d.get(k))) != 0:\n",
    "        print(k)"
   ]
  },
  {
   "cell_type": "code",
   "execution_count": null,
   "id": "0e4056eb",
   "metadata": {},
   "outputs": [],
   "source": [
    "celltype_dict = dict()\n",
    "with open('../data/sampleToCelltype.csv') as sampleToCelltype:\n",
    "    reader = csv.reader(sampleToCelltype)\n",
    "    for row in reader:\n",
    "        if row[0] != \"sampleID\":\n",
    "            celltype_dict[row[0]] = [row[1], row[2]]"
   ]
  },
  {
   "cell_type": "code",
   "execution_count": null,
   "id": "481e3b88",
   "metadata": {},
   "outputs": [],
   "source": [
    "celltype_dict"
   ]
  },
  {
   "cell_type": "code",
   "execution_count": null,
   "id": "3000769d",
   "metadata": {},
   "outputs": [],
   "source": [
    "rem_dict = dict()\n",
    "with open('../data/REMActivity_1.csv') as file_1:# TODO: mehrere samples aus celltype hinzufügen, bis jetzt nur für 1 gemacht\n",
    "    reader_1 = csv.reader(file_1)\n",
    "    for r in tqdm(reader_1):\n",
    "        if r[1] == \"B_S00DFM11\":\n",
    "            rem_dict[r[0]] = [r[1], r[3]]"
   ]
  },
  {
   "cell_type": "code",
   "execution_count": null,
   "id": "14b69350",
   "metadata": {},
   "outputs": [],
   "source": [
    "g = Graph()\n",
    "name = g.new_vp(\"string\")\n",
    "g.vp.name = name\n",
    "type = g.new_vp(\"string\")\n",
    "g.vp.type = type\n",
    "standDnase1Log2 = g.new_ep(\"double\")\n",
    "g.edge_properties[\"standDnase1Log2\"] = standDnase1Log2\n",
    "celltypeID = g.new_ep(\"string\")\n",
    "g.edge_properties[\"celltypeID\"] = celltypeID\n",
    "celltype = g.new_ep(\"string\")\n",
    "g.edge_properties[\"celltype\"] = celltype\n",
    "sampleID = g.new_ep(\"string\")\n",
    "g.edge_properties[\"sampleID\"] = sampleID\n",
    "\n",
    "done_proteins_dict = {}\n",
    "with open('../data/REMAnnotationModelScore_1.csv') as file:\n",
    "    reader = csv.reader(file)\n",
    "    for row in tqdm(reader):\n",
    "        if row[1] != \"start\":\n",
    "            v1 = g.add_vertex()\n",
    "            g.vp.name[v1] = row[4]\n",
    "            g.vp.type[v1] = \"REM\"\n",
    "\n",
    "            if done_proteins_dict.get(row[3]) == None:\n",
    "                v2 = g.add_vertex()\n",
    "                g.vp.name[v2] = row[3]\n",
    "                g.vp.type[v2] = \"Gene\"\n",
    "                done_proteins_dict[row[3]] = int(v2)\n",
    "            else:\n",
    "                v2 = g.vertex(done_proteins_dict.get(row[3]))\n",
    "            \n",
    "            e = g.add_edge(v1, v2)\n",
    "            g.ep.standDnase1Log2[e] = rem_dict.get(row[4])[1]\n",
    "            g.ep.celltypeID[e] = celltype_dict.get(rem_dict.get(row[4])[0])[0]\n",
    "            g.ep.celltype[e] = celltype_dict.get(rem_dict.get(row[4])[0])[1]\n",
    "            g.ep.sampleID[e] = rem_dict.get(row[4])[0]\n"
   ]
  },
  {
   "cell_type": "code",
   "execution_count": null,
   "id": "b854c13f",
   "metadata": {},
   "outputs": [],
   "source": [
    "g.save(\"../data/graph-tool/specificCelltypeGraph_B_S00DFM11.gt\")"
   ]
  },
  {
   "cell_type": "code",
   "execution_count": null,
   "id": "79db5c60",
   "metadata": {},
   "outputs": [],
   "source": [
    "gr = load_graph(\"../data/graph-tool/specificCelltypeGraph_B_S00DFM11.gt\")"
   ]
  },
  {
   "cell_type": "code",
   "execution_count": null,
   "id": "843eea87",
   "metadata": {},
   "outputs": [],
   "source": [
    "gr.list_properties()\n",
    "rowCountv = sum(1 for e in gr.vertices())\n",
    "rowCounte = sum(1 for e in gr.edges())\n",
    "print(\"Nodes: \"+str(rowCountv))\n",
    "print(\"Edges: \"+str(rowCounte))"
   ]
  },
  {
   "cell_type": "code",
   "execution_count": null,
   "id": "7a612c84",
   "metadata": {},
   "outputs": [],
   "source": [
    "with open('../data/REMActivity_1.csv') as file:\n",
    "    reader = csv.reader(file)\n",
    "    counter = 0\n",
    "    for row in tqdm(reader):\n",
    "        print(row)\n",
    "        counter += 1\n",
    "        if(counter == 200):\n",
    "            break"
   ]
  }
 ],
 "metadata": {
  "kernelspec": {
   "display_name": "Python 3 (ipykernel)",
   "language": "python",
   "name": "python3"
  },
  "language_info": {
   "codemirror_mode": {
    "name": "ipython",
    "version": 3
   },
   "file_extension": ".py",
   "mimetype": "text/x-python",
   "name": "python",
   "nbconvert_exporter": "python",
   "pygments_lexer": "ipython3",
   "version": "3.11.0"
  }
 },
 "nbformat": 4,
 "nbformat_minor": 5
}
