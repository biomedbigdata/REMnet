{
 "cells": [
  {
   "cell_type": "code",
   "execution_count": 2,
   "id": "d9a1c385",
   "metadata": {},
   "outputs": [],
   "source": [
    "from graph_tool.all import *\n",
    "from tqdm import tqdm\n",
    "import graph_tool.clustering as gtc\n",
    "import graph_tool.stats as gt\n",
    "import graph_tool.collection as grtc"
   ]
  },
  {
   "cell_type": "code",
   "execution_count": 3,
   "id": "26316cb8",
   "metadata": {},
   "outputs": [],
   "source": [
    "g = load_graph(\"../data/graph-tool/allCelltypeGraph.gt\")"
   ]
  },
  {
   "cell_type": "code",
   "execution_count": 6,
   "id": "3d644955",
   "metadata": {},
   "outputs": [
    {
     "name": "stderr",
     "output_type": "stream",
     "text": [
      "2404861it [00:08, 274317.74it/s]\n"
     ]
    }
   ],
   "source": [
    "# create grpah file for cosmograph\n",
    "\n",
    "g_file = open(\"../data/graph-tool/remnet.csv\", \"w\")\n",
    "g_file.write(\"source, target\\n\")\n",
    "for e in tqdm(g.edges()):\n",
    "    g_file.write(f\"{g.vp.name[e.source()]}, {g.vp.name[e.target()]}\\n\")"
   ]
  }
 ],
 "metadata": {
  "kernelspec": {
   "display_name": "Python 3 (ipykernel)",
   "language": "python",
   "name": "python3"
  },
  "language_info": {
   "codemirror_mode": {
    "name": "ipython",
    "version": 3
   },
   "file_extension": ".py",
   "mimetype": "text/x-python",
   "name": "python",
   "nbconvert_exporter": "python",
   "pygments_lexer": "ipython3",
   "version": "3.9.16"
  }
 },
 "nbformat": 4,
 "nbformat_minor": 5
}
