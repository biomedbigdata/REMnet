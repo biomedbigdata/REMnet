{
 "cells": [
  {
   "cell_type": "code",
   "execution_count": 1,
   "id": "924afb33",
   "metadata": {},
   "outputs": [],
   "source": [
    "from graph_tool import *\n",
    "from tqdm import tqdm\n",
    "import csv"
   ]
  },
  {
   "cell_type": "code",
   "execution_count": 2,
   "id": "8637bcd8",
   "metadata": {},
   "outputs": [
    {
     "name": "stderr",
     "output_type": "stream",
     "text": [
      "1264526it [00:04, 258328.93it/s]\n"
     ]
    }
   ],
   "source": [
    "# get dict with REMID as key and corresponding CREM as value\n",
    "# dict with CREM as key and contained REMs as value\n",
    "crem_dict = dict()\n",
    "rem_crem_dict = dict()\n",
    "with open('../data/clusterREMs_1.csv') as file:\n",
    "    reader = csv.reader(file)\n",
    "    for row in tqdm(reader):\n",
    "        if row[0] != \"REMID\":\n",
    "            crem_dict[row[0]] = [row[1], row[3], row[4]]\n",
    "            if rem_crem_dict.get(row[1]) == None:\n",
    "                rem_crem_dict[row[1]] = [row[0]]\n",
    "            else:\n",
    "                rem_crem_dict[row[1]].append(row[0])"
   ]
  },
  {
   "cell_type": "code",
   "execution_count": 3,
   "id": "ee745548",
   "metadata": {},
   "outputs": [
    {
     "name": "stderr",
     "output_type": "stream",
     "text": [
      "58175it [00:00, 456764.57it/s]\n"
     ]
    }
   ],
   "source": [
    "# get dict with GENE name as key and start and end as value\n",
    "gene_dict = dict()\n",
    "with open('../data/GeneAnnotation_1.csv') as file:\n",
    "    reader = csv.reader(file)\n",
    "    for row in tqdm(reader):\n",
    "        if row[0] != \"chr\":\n",
    "            gene_dict[row[3]] = [int(row[1]), int(row[2]), row[0]]"
   ]
  },
  {
   "cell_type": "code",
   "execution_count": 4,
   "id": "074ff3b5",
   "metadata": {},
   "outputs": [],
   "source": [
    "sample_celltype_dict = dict()\n",
    "ID_celltype_dict = dict()\n",
    "with open('../data/sampleToCelltype.csv') as sampleToCelltype:\n",
    "    reader = csv.reader(sampleToCelltype)\n",
    "    for row in reader:\n",
    "        if row[0] != \"sampleID\":\n",
    "            # load dict with sample and corresponding celltype\n",
    "            sample_celltype_dict[row[0]] = [row[1], row[2]]\n",
    "            \n",
    "            # load dict with celltype ID and corresponding celltype\n",
    "            ID_celltype_dict[row[1]] = row[2]\n",
    "\n",
    "# print(sample_celltype_dict)\n",
    "# print(ID_celltype_dict)"
   ]
  },
  {
   "cell_type": "code",
   "execution_count": 5,
   "id": "7a612c84",
   "metadata": {},
   "outputs": [
    {
     "name": "stderr",
     "output_type": "stream",
     "text": [
      "6399141it [00:09, 707915.01it/s]\n",
      "3257745it [00:04, 658893.64it/s]\n"
     ]
    }
   ],
   "source": [
    "# dict for genes with their expression values in each sample for both data sets (Roadmap and Blueprint)\n",
    "gene_expr_dict = dict()\n",
    "with open('../data/GeneExpressionRoadmap_1.csv') as file:\n",
    "    reader = csv.reader(file)\n",
    "    for row in tqdm(reader):\n",
    "        species = row[3]\n",
    "        gene = row[0]\n",
    "        sample = row[1]\n",
    "        exprs = row[2]\n",
    "#         if sample not in sample_set:\n",
    "#             continue\n",
    "        if species != \"species\":\n",
    "            if gene_expr_dict.get(gene) == None:\n",
    "                gene_expr_dict[gene] = {sample : exprs}\n",
    "            elif gene_expr_dict[gene].get(sample) == None:\n",
    "                gene_expr_dict.get(gene)[sample] = exprs\n",
    "                \n",
    "with open('../data/GeneExpressionBlueprint_1.csv') as file:\n",
    "    reader = csv.reader(file)\n",
    "    for row in tqdm(reader):\n",
    "        species = row[3]\n",
    "        gene = row[0]\n",
    "        sample = row[1]\n",
    "        exprs = row[2]\n",
    "#         if sample not in sample_set:\n",
    "#             continue\n",
    "        if species != \"species\":\n",
    "            if gene_expr_dict.get(gene) == None:\n",
    "                gene_expr_dict[gene] = {sample : exprs}\n",
    "            elif gene_expr_dict[gene].get(sample) == None:\n",
    "                gene_expr_dict.get(gene)[sample] = exprs\n"
   ]
  },
  {
   "cell_type": "code",
   "execution_count": 18,
   "id": "3000769d",
   "metadata": {
    "scrolled": true
   },
   "outputs": [
    {
     "name": "stderr",
     "output_type": "stream",
     "text": [
      "399206927it [15:12, 437721.10it/s]\n"
     ]
    }
   ],
   "source": [
    "# rem_dict{celltypes : {samples: {REMs: score}}}\n",
    "# dict to map celltype to samples and the included REMs with their scores\n",
    "\n",
    "rem_dict = dict()\n",
    "with open('../data/REMActivity_1.csv') as file_1:\n",
    "    reader_1 = csv.reader(file_1)\n",
    "    for r in tqdm(reader_1):\n",
    "        rem = r[0] \n",
    "        sample = r[1] \n",
    "        score = r[3] \n",
    "        \n",
    "        if sample_celltype_dict.get(sample) == None:       # if sample not \n",
    "            continue\n",
    "        else:\n",
    "            celltype = sample_celltype_dict.get(sample)[0]\n",
    "            \n",
    "        if rem_dict.get(celltype) == None:\n",
    "            rem_dict[celltype] = {sample: {rem: score}}\n",
    "            \n",
    "        elif rem_dict[celltype].get(sample) == None:\n",
    "            rem_dict.get(celltype)[sample] = {rem: score}\n",
    "            \n",
    "        else:\n",
    "            rem_dict[celltype].get(sample)[rem] = score\n",
    "            "
   ]
  },
  {
   "cell_type": "code",
   "execution_count": 6,
   "id": "a45241ff",
   "metadata": {},
   "outputs": [
    {
     "name": "stderr",
     "output_type": "stream",
     "text": [
      "2404862it [00:59, 40658.98it/s]\n"
     ]
    }
   ],
   "source": [
    "# create template graph to fill with celltype specific values afterwards\n",
    "# Graph contains gens and rems and their edges buth with no values\n",
    "\n",
    "g = Graph()\n",
    "name = g.new_vp(\"string\")\n",
    "g.vp.name = name\n",
    "type = g.new_vp(\"string\")\n",
    "g.vp.type = type\n",
    "start = g.new_vp(\"int\")\n",
    "g.vp.start = start\n",
    "end = g.new_vp(\"int\")\n",
    "g.vp.end = end\n",
    "rem = g.new_ep(\"string\")\n",
    "g.ep.rem = rem\n",
    "chr = g.new_vp(\"string\")\n",
    "g.vp.chr = chr\n",
    "celltypeID = g.new_ep(\"string\")\n",
    "g.edge_properties[\"celltypeID\"] = celltypeID\n",
    "celltype = g.new_ep(\"string\")\n",
    "g.edge_properties[\"celltype\"] = celltype\n",
    "\n",
    "done_proteins_dict = {}\n",
    "done_crems = {}\n",
    "with open('../data/REMAnnotationModelScore_1.csv') as file:\n",
    "    reader = csv.reader(file)\n",
    "    for row in tqdm(reader):\n",
    "        rem_name = row[4]\n",
    "        gen = row[3]\n",
    "        crem = crem_dict.get(rem_name)\n",
    "        if crem != None:\n",
    "            crem = crem[0]\n",
    "        if row[1] != \"start\":\n",
    "            \n",
    "            if crem in done_crems:\n",
    "                v1 = g.vertex(done_crems.get(crem))\n",
    "            elif crem != None:\n",
    "                v1 = g.add_vertex()\n",
    "                g.vp.name[v1] = crem\n",
    "                g.vp.type[v1] = \"REM\"\n",
    "                g.vp.start[v1] = crem_dict.get(rem_name)[1]\n",
    "                g.vp.end[v1] = crem_dict.get(rem_name)[2]\n",
    "                done_crems[crem] = int(v1)\n",
    "            else:\n",
    "                v1 = g.add_vertex()\n",
    "                g.vp.name[v1] = rem_name\n",
    "                g.vp.type[v1] = \"REM\"\n",
    "                g.vp.start[v1] = int(row[1])\n",
    "                g.vp.end[v1] = int(row[2])\n",
    "\n",
    "            if done_proteins_dict.get(gen) == None:\n",
    "                v2 = g.add_vertex()\n",
    "                g.vp.name[v2] = gen\n",
    "                g.vp.type[v2] = \"Gene\"\n",
    "                g.vp.start[v2] = gene_dict.get(gen)[0]\n",
    "                g.vp.end[v2] = gene_dict.get(gen)[1]\n",
    "                done_proteins_dict[gen] = int(v2)\n",
    "            else:\n",
    "                v2 = g.vertex(done_proteins_dict.get(gen))\n",
    "\n",
    "            e = g.add_edge(v1, v2)\n",
    "            g.ep.rem[e] = rem_name\n",
    "                \n",
    "g.save(f\"../data/graph-tool/template.gt\")"
   ]
  },
  {
   "cell_type": "code",
   "execution_count": 20,
   "id": "79db5c60",
   "metadata": {},
   "outputs": [
    {
     "name": "stdout",
     "output_type": "stream",
     "text": [
      "CTID_0000006\n"
     ]
    },
    {
     "name": "stderr",
     "output_type": "stream",
     "text": [
      "2404861it [03:06, 12895.20it/s]\n",
      "2404861it [03:02, 13162.86it/s]\n",
      "2404861it [03:02, 13190.65it/s]\n"
     ]
    }
   ],
   "source": [
    "# load template graph and fill with celltype edge values by iterating over samples in celltype\n",
    "\n",
    "graph = load_graph(f\"../data/graph-tool/template.gt\")\n",
    "\n",
    "for celltype_id in rem_dict:\n",
    "    if celltype_id not in [\"CTID_0000006\"]:\n",
    "        continue\n",
    "    print(celltype_id)\n",
    "    \n",
    "    g = Graph(graph)\n",
    "    samples = rem_dict.get(celltype_id)\n",
    "    celltype_name = ID_celltype_dict.get(celltype_id)\n",
    "    \n",
    "    for sample in samples:\n",
    "        sampleID = g.new_ep(\"double\")\n",
    "        g.edge_properties[sample] = sampleID\n",
    "        sample_g = g.new_vp(\"double\")\n",
    "        g.vertex_properties[sample]= sample_g\n",
    "    \n",
    "        for e in tqdm(g.edges()):\n",
    "            rem = g.vp.name[e.source()]\n",
    "            g.ep.celltypeID[e] = celltype_id\n",
    "            g.ep.celltype[e] = celltype_name\n",
    "            \n",
    "            gene = g.vp.name[e.target()]                      # new part, adding gene expr for specific sample\n",
    "            expr = gene_expr_dict.get(gene).get(sample) \n",
    "            g.vp[sample][e.target()] = expr\n",
    "            \n",
    "#             if rem.startswith(\"C\"):    #  mean val for crems\n",
    "#                 mean_expr = sum(float(samples.get(sample).get(r)) for r in rem_crem_dict.get(rem))/len(rem_crem_dict.get(rem))\n",
    "#                 g.ep[sample][e] = mean_expr\n",
    "#             else:\n",
    "#                 g.ep[sample][e] = samples.get(sample).get(rem) \n",
    "            \n",
    "            rem_edge_name = g.ep.rem[e]\n",
    "            g.ep[sample][e] = samples.get(sample).get(rem_edge_name)\n",
    "            \n",
    "    g.save(f\"../data/graph-tool/{celltype_id}.gt\")\n",
    "#     break"
   ]
  },
  {
   "cell_type": "code",
   "execution_count": 3,
   "id": "fbb80ac5",
   "metadata": {},
   "outputs": [],
   "source": [
    "g = load_graph(\"../data/graph-tool/CTID_0000006.gt\")"
   ]
  },
  {
   "cell_type": "code",
   "execution_count": 6,
   "id": "e64f9ece",
   "metadata": {},
   "outputs": [
    {
     "name": "stdout",
     "output_type": "stream",
     "text": [
      "-0.012413861189268384\n",
      "REM0000022\n",
      "0.00012564005500229042\n",
      "REM0000023\n"
     ]
    }
   ],
   "source": [
    "for e in g.edges():\n",
    "    if g.vp.name[e.target()] == \"ENSG00000233750\" and g.vp.name[e.source()] == \"CREM0000007\":\n",
    "        print(g.ep.B_C0010KB1[e])\n",
    "        print(g.ep.rem[e])"
   ]
  },
  {
   "cell_type": "code",
   "execution_count": 11,
   "id": "858e1aa7",
   "metadata": {},
   "outputs": [
    {
     "name": "stdout",
     "output_type": "stream",
     "text": [
      "B_C0010KB1     (vertex)  (type: double)\n",
      "B_C0011IB1     (vertex)  (type: double)\n",
      "B_C001UYB4     (vertex)  (type: double)\n",
      "end            (vertex)  (type: int32_t)\n",
      "name           (vertex)  (type: string)\n",
      "start          (vertex)  (type: int32_t)\n",
      "type           (vertex)  (type: string)\n",
      "B_C0010KB1     (edge)    (type: double)\n",
      "B_C0011IB1     (edge)    (type: double)\n",
      "B_C001UYB4     (edge)    (type: double)\n",
      "celltype       (edge)    (type: string)\n",
      "celltypeID     (edge)    (type: string)\n",
      "rem            (edge)    (type: string)\n"
     ]
    }
   ],
   "source": [
    "g.list_properties()"
   ]
  },
  {
   "cell_type": "code",
   "execution_count": 19,
   "id": "d136d29b",
   "metadata": {},
   "outputs": [
    {
     "name": "stdout",
     "output_type": "stream",
     "text": [
      "0.031891038020643886\n",
      "REM0000001\n",
      "ENSG00000278267\n",
      "0.35818993348847716\n",
      "REM0000002\n",
      "ENSG00000223972\n",
      "-0.17473665019991788\n",
      "CREM0000001\n",
      "ENSG00000223972\n",
      "-0.21302234023002894\n",
      "CREM0000001\n",
      "ENSG00000237613\n",
      "-0.1323817964763507\n",
      "REM0000005\n",
      "ENSG00000237613\n",
      "0.05655310368116036\n",
      "CREM0000002\n",
      "ENSG00000227232\n",
      "-0.05825563063323182\n",
      "CREM0000002\n",
      "ENSG00000237613\n",
      "0.1283341595085099\n",
      "CREM0000003\n",
      "ENSG00000227232\n",
      "0.09849975482203463\n",
      "CREM0000003\n",
      "ENSG00000237613\n",
      "-0.3270380201701096\n",
      "REM0000010\n",
      "ENSG00000278267\n"
     ]
    }
   ],
   "source": [
    "counter = 0\n",
    "for e in g.edges():\n",
    "    counter += 1\n",
    "    print(g.ep.B_C0010KB1[e])\n",
    "    print(g.vp.name[e.source()])\n",
    "    print(g.vp.name[e.target()])\n",
    "    if counter == 10:\n",
    "        break"
   ]
  },
  {
   "cell_type": "code",
   "execution_count": null,
   "id": "c162148e",
   "metadata": {},
   "outputs": [],
   "source": [
    "# check if all edges are the same in all samples\n",
    "d = dict()\n",
    "with open('../data/REMActivity_1.csv') as file:\n",
    "    reader = csv.reader(file)\n",
    "    counter = 0\n",
    "    for row in tqdm(reader):\n",
    "        if row[0] != \"REMID\":\n",
    "            if d.get(row[1]) != None:\n",
    "                d[row[1]].add(row[0])\n",
    "            else:\n",
    "                d[row[1]] = {row[0]}\n",
    "        \n",
    "check = list(d.values())[0]\n",
    "for k in d.keys():\n",
    "#     print(k)\n",
    "    if  len(check.difference(d.get(k))) != 0:\n",
    "        print(k)"
   ]
  },
  {
   "cell_type": "code",
   "execution_count": null,
   "id": "2acc077a",
   "metadata": {},
   "outputs": [],
   "source": [
    "for celltype_id in rem_dict:\n",
    "    print(celltype_id)\n",
    "    \n",
    "    g = Graph()\n",
    "    name = g.new_vp(\"string\")\n",
    "    g.vp.name = name\n",
    "    type = g.new_vp(\"string\")\n",
    "    g.vp.type = type\n",
    "    celltypeID = g.new_ep(\"string\")\n",
    "    g.edge_properties[\"celltypeID\"] = celltypeID\n",
    "    celltype = g.new_ep(\"string\")\n",
    "    g.edge_properties[\"celltype\"] = celltype\n",
    "    \n",
    "#         standDnase1Log2 = g.new_ep(\"double\")\n",
    "#         g.edge_properties[\"standDnase1Log2\"] = standDnase1Log2\n",
    "\n",
    "    done_proteins_dict = {}\n",
    "    with open('../data/REMAnnotationModelScore_1.csv') as file:\n",
    "        reader = csv.reader(file)\n",
    "        for row in tqdm(reader):\n",
    "            rem = row[4]\n",
    "            gen = row[3]\n",
    "            if row[1] != \"start\":\n",
    "                v1 = g.add_vertex()\n",
    "                g.vp.name[v1] = rem\n",
    "                g.vp.type[v1] = \"REM\"\n",
    "\n",
    "                if done_proteins_dict.get(gen) == None:\n",
    "                    v2 = g.add_vertex()\n",
    "                    g.vp.name[v2] = gen\n",
    "                    g.vp.type[v2] = \"Gene\"\n",
    "                    done_proteins_dict[gen] = int(v2)\n",
    "                else:\n",
    "                    v2 = g.vertex(done_proteins_dict.get(gen))\n",
    "\n",
    "                e = g.add_edge(v1, v2)\n",
    "#                     g.ep.standDnase1Log2[e] = rem_dict.get(rem)[1]\n",
    "                g.ep.celltypeID[e] = celltype_id\n",
    "                g.ep.celltype[e] = ID_celltype_dict.get(celltype_id)\n",
    "                \n",
    "                samples = rem_dict.get(celltype_id)\n",
    "                for sample in samples:\n",
    "                    sampleID = g.new_ep(\"double\")\n",
    "                    g.edge_properties[sample] = sampleID\n",
    "                    g.ep[sample][e] = samples.get(sample).get(rem)\n",
    "                \n",
    "    g.save(f\"../data/graph-tool/{celltype_id}.gt\")\n"
   ]
  },
  {
   "cell_type": "code",
   "execution_count": 3,
   "id": "c6c45dd5",
   "metadata": {},
   "outputs": [
    {
     "name": "stderr",
     "output_type": "stream",
     "text": [
      "2404862it [00:06, 388620.87it/s]\n"
     ]
    }
   ],
   "source": [
    "l = []\n",
    "with open('../data/REMAnnotationModelScore_1.csv') as file:\n",
    "    reader = csv.reader(file)\n",
    "    for row in tqdm(reader):\n",
    "        rem = row[4]\n",
    "        l.append(rem)"
   ]
  },
  {
   "cell_type": "code",
   "execution_count": 4,
   "id": "ed37e8e5",
   "metadata": {},
   "outputs": [
    {
     "data": {
      "text/plain": [
       "2404862"
      ]
     },
     "execution_count": 4,
     "metadata": {},
     "output_type": "execute_result"
    }
   ],
   "source": [
    "len(set(l))"
   ]
  }
 ],
 "metadata": {
  "kernelspec": {
   "display_name": "Python 3 (ipykernel)",
   "language": "python",
   "name": "python3"
  },
  "language_info": {
   "codemirror_mode": {
    "name": "ipython",
    "version": 3
   },
   "file_extension": ".py",
   "mimetype": "text/x-python",
   "name": "python",
   "nbconvert_exporter": "python",
   "pygments_lexer": "ipython3",
   "version": "3.9.16"
  }
 },
 "nbformat": 4,
 "nbformat_minor": 5
}
