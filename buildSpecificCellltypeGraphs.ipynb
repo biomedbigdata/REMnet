{
 "cells": [
  {
   "cell_type": "code",
   "execution_count": 2,
   "id": "924afb33",
   "metadata": {},
   "outputs": [],
   "source": [
    "from graph_tool import *\n",
    "from tqdm import tqdm\n",
    "import csv"
   ]
  },
  {
   "cell_type": "code",
   "execution_count": 5,
   "id": "e3ee61a0",
   "metadata": {},
   "outputs": [
    {
     "name": "stderr",
     "output_type": "stream",
     "text": [
      "10it [00:00, 262.98it/s]"
     ]
    },
    {
     "name": "stdout",
     "output_type": "stream",
     "text": [
      "['chr', 'start', 'end', 'geneID', 'REMID', 'regressionCoefficient', 'pValue', 'normModelScore', 'meanDNase1Signal', 'sdDNase1Signal', 'consortium', 'version']\n",
      "['chr1', '8000', '9999', 'ENSG00000278267', 'REM0000001', '-0.256695911008484', '0.00117467409165201', '0.5224341191833749', '0.02381156626506024', '0.20529241835168552', 'R', '1']\n",
      "['chr1', '10000', '11999', 'ENSG00000223972', 'REM0000002', '0.282339597095816', '0.00292529340664151', '1.0', '8.482383975903614', '3.3935585369746892', 'R', '1']\n",
      "['chr1', '16000', '17999', 'ENSG00000223972', 'REM0000003', '0.153983772651832', '0.10480646042063', '0.3866130429076009', '0.7637601445783132', '0.3955437009964319', 'R', '1']\n",
      "['chr1', '16000', '17999', 'ENSG00000237613', 'REM0000004', '0.71982319723698', '0.000525639660848767', '1.0', '0.7637601626506024', '0.39554369409406526', 'B', '1']\n",
      "['chr1', '18000', '19999', 'ENSG00000237613', 'REM0000005', '-0.576610369379893', '0.00365802723596124', '0.7430684116746733', '0.4999579939759036', '0.23258959439585497', 'B', '1']\n",
      "['chr1', '20000', '21999', 'ENSG00000227232', 'REM0000006', '0.104237197356185', '0.278237986103657', '0.2551824568276778', '0.7351208975903615', '0.37084415113431257', 'R', '1']\n",
      "['chr1', '20000', '21999', 'ENSG00000237613', 'REM0000007', '-0.213196532861079', '0.103237383421542', '0.30072254464057757', '0.7351208975903615', '0.37084415113431257', 'B', '1']\n",
      "['chr1', '22000', '23999', 'ENSG00000227232', 'REM0000008', '0.28563816317708', '0.00664964854483734', '1.0', '0.5782718373493976', '0.3121023793488149', 'R', '1']\n",
      "['chr1', '22000', '23999', 'ENSG00000237613', 'REM0000009', '0.435296367201359', '0.0173877921604196', '0.5366234220743742', '0.5782718313253012', '0.3121023760881392', 'B', '1']\n"
     ]
    },
    {
     "name": "stderr",
     "output_type": "stream",
     "text": [
      "\n"
     ]
    }
   ],
   "source": [
    "with open('../data/REMAnnotationModelScore_1.csv') as file:\n",
    "    reader = csv.reader(file)\n",
    "    counter = 0\n",
    "    for row in tqdm(reader):\n",
    "        if counter != 10:\n",
    "            print(row)\n",
    "            counter +=1\n",
    "        else: break"
   ]
  },
  {
   "cell_type": "code",
   "execution_count": 6,
   "id": "9bd712da",
   "metadata": {},
   "outputs": [
    {
     "name": "stderr",
     "output_type": "stream",
     "text": [
      "10it [00:00, 12614.45it/s]"
     ]
    },
    {
     "name": "stdout",
     "output_type": "stream",
     "text": [
      "['REMID', 'sampleID', 'dnase1Log2', 'standDnase1Log2', 'version']\n",
      "['REM0000001', 'B_C0010KB1', '0', '0.031891038020643886', '1']\n",
      "['REM0000001', 'B_C0011IB1', '0', '0.04013948313468239', '1']\n",
      "['REM0000001', 'B_C001UYB4', '0', '0.03228939822426737', '1']\n",
      "['REM0000001', 'B_C005PS12', '0', '0.04380154958390911', '1']\n",
      "['REM0000001', 'B_C005VG11', '0', '0.03049425542411712', '1']\n",
      "['REM0000001', 'B_C0066P12', '0', '0.03271801586763492', '1']\n",
      "['REM0000001', 'B_C006NSB1', '0', '0.02778819823971882', '1']\n",
      "['REM0000001', 'B_S001MJ12', '0', '0.017380119422556777', '1']\n",
      "['REM0000001', 'B_S001S712', '0', '0.04070749185898802', '1']\n"
     ]
    },
    {
     "name": "stderr",
     "output_type": "stream",
     "text": [
      "\n"
     ]
    }
   ],
   "source": [
    "with open('../data/REMActivity_1.csv') as file:\n",
    "    reader = csv.reader(file)\n",
    "    counter = 0\n",
    "    for row in tqdm(reader):\n",
    "        if counter != 10:\n",
    "            print(row)\n",
    "            counter +=1\n",
    "        else: break"
   ]
  },
  {
   "cell_type": "code",
   "execution_count": 2,
   "id": "8637bcd8",
   "metadata": {},
   "outputs": [
    {
     "name": "stderr",
     "output_type": "stream",
     "text": [
      "1264526it [00:05, 246296.52it/s]\n"
     ]
    }
   ],
   "source": [
    "# get dict with REMID as key and corresponding CREM as value\n",
    "# dict with CREM as key and contained REMs as value\n",
    "crem_dict = dict()\n",
    "rem_crem_dict = dict()\n",
    "with open('../data/clusterREMs_1.csv') as file:\n",
    "    reader = csv.reader(file)\n",
    "    for row in tqdm(reader):\n",
    "        if row[0] != \"REMID\":\n",
    "            crem_dict[row[0]] = [row[1], row[3], row[4]]\n",
    "            if rem_crem_dict.get(row[1]) == None:\n",
    "                rem_crem_dict[row[1]] = [row[0]]\n",
    "            else:\n",
    "                rem_crem_dict[row[1]].append(row[0])"
   ]
  },
  {
   "cell_type": "code",
   "execution_count": 3,
   "id": "ee745548",
   "metadata": {},
   "outputs": [
    {
     "name": "stderr",
     "output_type": "stream",
     "text": [
      "58175it [00:00, 386556.33it/s]\n"
     ]
    }
   ],
   "source": [
    "# get dict with GENE name as key and start and end as value\n",
    "gene_dict = dict()\n",
    "with open('../data/GeneAnnotation_1.csv') as file:\n",
    "    reader = csv.reader(file)\n",
    "    for row in tqdm(reader):\n",
    "        if row[0] != \"chr\":\n",
    "            gene_dict[row[3]] = [int(row[1]), int(row[2]), row[0]]"
   ]
  },
  {
   "cell_type": "code",
   "execution_count": 4,
   "id": "074ff3b5",
   "metadata": {},
   "outputs": [],
   "source": [
    "sample_celltype_dict = dict()\n",
    "ID_celltype_dict = dict()\n",
    "with open('../data/sampleToCelltype.csv') as sampleToCelltype:\n",
    "    reader = csv.reader(sampleToCelltype)\n",
    "    for row in reader:\n",
    "        if row[0] != \"sampleID\":\n",
    "            # load dict with sample and corresponding celltype\n",
    "            sample_celltype_dict[row[0]] = [row[1], row[2]]\n",
    "            \n",
    "            # load dict with celltype ID and corresponding celltype\n",
    "            ID_celltype_dict[row[1]] = row[2]\n",
    "\n",
    "# print(sample_celltype_dict)\n",
    "# print(ID_celltype_dict)"
   ]
  },
  {
   "cell_type": "code",
   "execution_count": 5,
   "id": "7a612c84",
   "metadata": {},
   "outputs": [
    {
     "name": "stderr",
     "output_type": "stream",
     "text": [
      "6399141it [00:09, 682765.02it/s]\n",
      "3257745it [00:04, 689414.61it/s]\n"
     ]
    }
   ],
   "source": [
    "# dict for genes with their expression values in each sample for both data sets (Roadmap and Blueprint)\n",
    "gene_expr_dict = dict()\n",
    "with open('../data/GeneExpressionRoadmap_1.csv') as file:\n",
    "    reader = csv.reader(file)\n",
    "    for row in tqdm(reader):\n",
    "        species = row[3]\n",
    "        gene = row[0]\n",
    "        sample = row[1]\n",
    "        exprs = row[2]\n",
    "#         if sample not in sample_set:\n",
    "#             continue\n",
    "        if species != \"species\":\n",
    "            if gene_expr_dict.get(gene) == None:\n",
    "                gene_expr_dict[gene] = {sample : exprs}\n",
    "            elif gene_expr_dict[gene].get(sample) == None:\n",
    "                gene_expr_dict.get(gene)[sample] = exprs\n",
    "                \n",
    "with open('../data/GeneExpressionBlueprint_1.csv') as file:\n",
    "    reader = csv.reader(file)\n",
    "    for row in tqdm(reader):\n",
    "        species = row[3]\n",
    "        gene = row[0]\n",
    "        sample = row[1]\n",
    "        exprs = row[2]\n",
    "#         if sample not in sample_set:\n",
    "#             continue\n",
    "        if species != \"species\":\n",
    "            if gene_expr_dict.get(gene) == None:\n",
    "                gene_expr_dict[gene] = {sample : exprs}\n",
    "            elif gene_expr_dict[gene].get(sample) == None:\n",
    "                gene_expr_dict.get(gene)[sample] = exprs\n"
   ]
  },
  {
   "cell_type": "code",
   "execution_count": 7,
   "id": "3000769d",
   "metadata": {
    "scrolled": true
   },
   "outputs": [
    {
     "name": "stderr",
     "output_type": "stream",
     "text": [
      "399206927it [16:12, 410580.70it/s]\n"
     ]
    }
   ],
   "source": [
    "# rem_dict{celltypes : {samples: {REMs: score}}}\n",
    "# dict to map celltype to samples and the included REMs with their scores\n",
    "\n",
    "rem_dict = dict()\n",
    "with open('../data/REMActivity_1.csv') as file_1:\n",
    "    reader_1 = csv.reader(file_1)\n",
    "    for r in tqdm(reader_1):\n",
    "        rem = r[0] \n",
    "        sample = r[1] \n",
    "        score = r[3] \n",
    "        \n",
    "        if sample_celltype_dict.get(sample) == None:       # if sample not \n",
    "            continue\n",
    "        else:\n",
    "            celltype = sample_celltype_dict.get(sample)[0]\n",
    "            \n",
    "        if rem_dict.get(celltype) == None:\n",
    "            rem_dict[celltype] = {sample: {rem: score}}\n",
    "            \n",
    "        elif rem_dict[celltype].get(sample) == None:\n",
    "            rem_dict.get(celltype)[sample] = {rem: score}\n",
    "            \n",
    "        else:\n",
    "            rem_dict[celltype].get(sample)[rem] = score\n",
    "            "
   ]
  },
  {
   "cell_type": "code",
   "execution_count": 8,
   "id": "a45241ff",
   "metadata": {},
   "outputs": [
    {
     "name": "stderr",
     "output_type": "stream",
     "text": [
      "2404862it [00:59, 40344.96it/s]\n"
     ]
    }
   ],
   "source": [
    "# create template graph to fill with celltype specific values afterwards\n",
    "# Graph contains gens and rems and their edges buth with no values\n",
    "\n",
    "g = Graph()\n",
    "name = g.new_vp(\"string\")\n",
    "g.vp.name = name\n",
    "type = g.new_vp(\"string\")\n",
    "g.vp.type = type\n",
    "start = g.new_vp(\"int\")\n",
    "g.vp.start = start\n",
    "end = g.new_vp(\"int\")\n",
    "g.vp.end = end\n",
    "rem = g.new_ep(\"string\")\n",
    "g.ep.rem = rem\n",
    "chr = g.new_vp(\"string\")\n",
    "g.vp.chr = chr\n",
    "celltypeID = g.new_ep(\"string\")\n",
    "g.edge_properties[\"celltypeID\"] = celltypeID\n",
    "celltype = g.new_ep(\"string\")\n",
    "g.edge_properties[\"celltype\"] = celltype\n",
    "\n",
    "done_proteins_dict = {}\n",
    "done_crems = {}\n",
    "with open('../data/REMAnnotationModelScore_1.csv') as file:\n",
    "    reader = csv.reader(file)\n",
    "    for row in tqdm(reader):\n",
    "        rem_name = row[4]\n",
    "        gen = row[3]\n",
    "        crem = crem_dict.get(rem_name)\n",
    "        if crem != None:\n",
    "            crem = crem[0]\n",
    "        if row[1] != \"start\":\n",
    "            \n",
    "            if crem in done_crems:\n",
    "                v1 = g.vertex(done_crems.get(crem))\n",
    "            elif crem != None:\n",
    "                v1 = g.add_vertex()\n",
    "                g.vp.name[v1] = crem\n",
    "                g.vp.type[v1] = \"REM\"\n",
    "                g.vp.start[v1] = crem_dict.get(rem_name)[1]\n",
    "                g.vp.end[v1] = crem_dict.get(rem_name)[2]\n",
    "                done_crems[crem] = int(v1)\n",
    "            else:\n",
    "                v1 = g.add_vertex()\n",
    "                g.vp.name[v1] = rem_name\n",
    "                g.vp.type[v1] = \"REM\"\n",
    "                g.vp.start[v1] = int(row[1])\n",
    "                g.vp.end[v1] = int(row[2])\n",
    "\n",
    "            if done_proteins_dict.get(gen) == None:\n",
    "                v2 = g.add_vertex()\n",
    "                g.vp.name[v2] = gen\n",
    "                g.vp.type[v2] = \"Gene\"\n",
    "                g.vp.start[v2] = gene_dict.get(gen)[0]\n",
    "                g.vp.end[v2] = gene_dict.get(gen)[1]\n",
    "                done_proteins_dict[gen] = int(v2)\n",
    "            else:\n",
    "                v2 = g.vertex(done_proteins_dict.get(gen))\n",
    "\n",
    "            e = g.add_edge(v1, v2)\n",
    "            g.ep.rem[e] = rem_name\n",
    "                \n",
    "g.save(f\"../data/graph-tool/template.gt\")"
   ]
  },
  {
   "cell_type": "code",
   "execution_count": 9,
   "id": "79db5c60",
   "metadata": {
    "scrolled": true
   },
   "outputs": [
    {
     "name": "stdout",
     "output_type": "stream",
     "text": [
      "CTID_0000006\n"
     ]
    },
    {
     "name": "stderr",
     "output_type": "stream",
     "text": [
      "2404861it [03:09, 12687.18it/s]\n",
      "2404861it [03:07, 12812.09it/s]\n",
      "2404861it [03:08, 12777.27it/s]\n"
     ]
    },
    {
     "name": "stdout",
     "output_type": "stream",
     "text": [
      "CTID_0000027\n"
     ]
    },
    {
     "name": "stderr",
     "output_type": "stream",
     "text": [
      "2404861it [03:23, 11805.83it/s]\n"
     ]
    },
    {
     "name": "stdout",
     "output_type": "stream",
     "text": [
      "CTID_0000033\n"
     ]
    },
    {
     "name": "stderr",
     "output_type": "stream",
     "text": [
      "2404861it [03:04, 13067.86it/s]\n",
      "2404861it [03:06, 12879.20it/s]\n",
      "2404861it [03:13, 12436.16it/s]\n",
      "2404861it [03:02, 13150.64it/s]\n",
      "2404861it [03:08, 12781.45it/s]\n",
      "2404861it [03:04, 13063.22it/s]\n"
     ]
    },
    {
     "name": "stdout",
     "output_type": "stream",
     "text": [
      "CTID_0000026\n"
     ]
    },
    {
     "name": "stderr",
     "output_type": "stream",
     "text": [
      "2404861it [03:03, 13127.97it/s]\n"
     ]
    },
    {
     "name": "stdout",
     "output_type": "stream",
     "text": [
      "CTID_0000030\n"
     ]
    },
    {
     "name": "stderr",
     "output_type": "stream",
     "text": [
      "2404861it [03:04, 13030.56it/s]\n",
      "2404861it [03:02, 13183.62it/s]\n"
     ]
    },
    {
     "name": "stdout",
     "output_type": "stream",
     "text": [
      "CTID_0000034\n"
     ]
    },
    {
     "name": "stderr",
     "output_type": "stream",
     "text": [
      "2404861it [03:03, 13114.47it/s]\n",
      "2404861it [03:05, 12959.16it/s]\n"
     ]
    },
    {
     "name": "stdout",
     "output_type": "stream",
     "text": [
      "CTID_0000032\n"
     ]
    },
    {
     "name": "stderr",
     "output_type": "stream",
     "text": [
      "2404861it [03:04, 13003.86it/s]\n",
      "2404861it [03:01, 13230.44it/s]\n"
     ]
    },
    {
     "name": "stdout",
     "output_type": "stream",
     "text": [
      "CTID_0000035\n"
     ]
    },
    {
     "name": "stderr",
     "output_type": "stream",
     "text": [
      "2404861it [03:02, 13184.21it/s]\n",
      "2404861it [03:04, 13059.83it/s]\n",
      "2404861it [03:01, 13245.43it/s]\n",
      "2404861it [03:00, 13293.22it/s]\n",
      "2404861it [03:02, 13147.04it/s]\n",
      "2404861it [03:00, 13324.41it/s]\n",
      "2404861it [03:01, 13259.87it/s]\n",
      "2404861it [03:03, 13131.03it/s]\n",
      "2404861it [03:04, 13020.87it/s]\n",
      "2404861it [03:01, 13245.78it/s]\n",
      "2404861it [03:01, 13221.20it/s]\n",
      "2404861it [03:05, 12954.17it/s]\n",
      "2404861it [03:02, 13147.87it/s]\n",
      "2404861it [03:05, 12969.98it/s]\n",
      "2404861it [03:02, 13148.01it/s]\n",
      "841631it [01:03, 13205.30it/s]IOPub message rate exceeded.\n",
      "The notebook server will temporarily stop sending output\n",
      "to the client in order to avoid crashing it.\n",
      "To change this limit, set the config variable\n",
      "`--NotebookApp.iopub_msg_rate_limit`.\n",
      "\n",
      "Current values:\n",
      "NotebookApp.iopub_msg_rate_limit=1000.0 (msgs/sec)\n",
      "NotebookApp.rate_limit_window=3.0 (secs)\n",
      "\n",
      "2404861it [03:01, 13281.86it/s]\n",
      "2404861it [03:03, 13105.20it/s]\n",
      "969906it [01:12, 13458.93it/s]IOPub message rate exceeded.\n",
      "The notebook server will temporarily stop sending output\n",
      "to the client in order to avoid crashing it.\n",
      "To change this limit, set the config variable\n",
      "`--NotebookApp.iopub_msg_rate_limit`.\n",
      "\n",
      "Current values:\n",
      "NotebookApp.iopub_msg_rate_limit=1000.0 (msgs/sec)\n",
      "NotebookApp.rate_limit_window=3.0 (secs)\n",
      "\n",
      "2404861it [03:00, 13322.06it/s]\n",
      "2404861it [03:00, 13307.07it/s]\n"
     ]
    },
    {
     "name": "stdout",
     "output_type": "stream",
     "text": [
      "CTID_0000037\n"
     ]
    },
    {
     "name": "stderr",
     "output_type": "stream",
     "text": [
      "1084533it [01:22, 12865.76it/s]IOPub message rate exceeded.\n",
      "The notebook server will temporarily stop sending output\n",
      "to the client in order to avoid crashing it.\n",
      "To change this limit, set the config variable\n",
      "`--NotebookApp.iopub_msg_rate_limit`.\n",
      "\n",
      "Current values:\n",
      "NotebookApp.iopub_msg_rate_limit=1000.0 (msgs/sec)\n",
      "NotebookApp.rate_limit_window=3.0 (secs)\n",
      "\n",
      "2404861it [03:00, 13305.78it/s]\n",
      "2404861it [03:01, 13259.01it/s]\n",
      "1333232it [01:40, 13365.92it/s]IOPub message rate exceeded.\n",
      "The notebook server will temporarily stop sending output\n",
      "to the client in order to avoid crashing it.\n",
      "To change this limit, set the config variable\n",
      "`--NotebookApp.iopub_msg_rate_limit`.\n",
      "\n",
      "Current values:\n",
      "NotebookApp.iopub_msg_rate_limit=1000.0 (msgs/sec)\n",
      "NotebookApp.rate_limit_window=3.0 (secs)\n",
      "\n",
      "2404861it [03:02, 13145.16it/s]\n",
      "2404861it [03:04, 13026.87it/s]\n",
      "488083it [00:38, 12864.17it/s]IOPub message rate exceeded.\n",
      "The notebook server will temporarily stop sending output\n",
      "to the client in order to avoid crashing it.\n",
      "To change this limit, set the config variable\n",
      "`--NotebookApp.iopub_msg_rate_limit`.\n",
      "\n",
      "Current values:\n",
      "NotebookApp.iopub_msg_rate_limit=1000.0 (msgs/sec)\n",
      "NotebookApp.rate_limit_window=3.0 (secs)\n",
      "\n",
      "2404861it [03:08, 12742.41it/s]\n",
      "1784437it [02:27, 12080.22it/s]IOPub message rate exceeded.\n",
      "The notebook server will temporarily stop sending output\n",
      "to the client in order to avoid crashing it.\n",
      "To change this limit, set the config variable\n",
      "`--NotebookApp.iopub_msg_rate_limit`.\n",
      "\n",
      "Current values:\n",
      "NotebookApp.iopub_msg_rate_limit=1000.0 (msgs/sec)\n",
      "NotebookApp.rate_limit_window=3.0 (secs)\n",
      "\n",
      "2404861it [02:59, 13368.35it/s]\n",
      "2404861it [03:01, 13257.72it/s]\n"
     ]
    },
    {
     "name": "stdout",
     "output_type": "stream",
     "text": [
      "CTID_0000042\n"
     ]
    },
    {
     "name": "stderr",
     "output_type": "stream",
     "text": [
      "942486it [01:12, 13081.13it/s]IOPub message rate exceeded.\n",
      "The notebook server will temporarily stop sending output\n",
      "to the client in order to avoid crashing it.\n",
      "To change this limit, set the config variable\n",
      "`--NotebookApp.iopub_msg_rate_limit`.\n",
      "\n",
      "Current values:\n",
      "NotebookApp.iopub_msg_rate_limit=1000.0 (msgs/sec)\n",
      "NotebookApp.rate_limit_window=3.0 (secs)\n",
      "\n",
      "2404861it [03:09, 12707.96it/s]\n"
     ]
    },
    {
     "name": "stdout",
     "output_type": "stream",
     "text": [
      "CTID_0000057\n"
     ]
    },
    {
     "name": "stderr",
     "output_type": "stream",
     "text": [
      "1122552it [01:29, 11830.30it/s]IOPub message rate exceeded.\n",
      "The notebook server will temporarily stop sending output\n",
      "to the client in order to avoid crashing it.\n",
      "To change this limit, set the config variable\n",
      "`--NotebookApp.iopub_msg_rate_limit`.\n",
      "\n",
      "Current values:\n",
      "NotebookApp.iopub_msg_rate_limit=1000.0 (msgs/sec)\n",
      "NotebookApp.rate_limit_window=3.0 (secs)\n",
      "\n",
      "1690682it [02:11, 12491.71it/s]IOPub message rate exceeded.\n",
      "The notebook server will temporarily stop sending output\n",
      "to the client in order to avoid crashing it.\n",
      "To change this limit, set the config variable\n",
      "`--NotebookApp.iopub_msg_rate_limit`.\n",
      "\n",
      "Current values:\n",
      "NotebookApp.iopub_msg_rate_limit=1000.0 (msgs/sec)\n",
      "NotebookApp.rate_limit_window=3.0 (secs)\n",
      "\n",
      "2404861it [03:05, 12942.12it/s]\n",
      "1847820it [02:23, 12777.77it/s]IOPub message rate exceeded.\n",
      "The notebook server will temporarily stop sending output\n",
      "to the client in order to avoid crashing it.\n",
      "To change this limit, set the config variable\n",
      "`--NotebookApp.iopub_msg_rate_limit`.\n",
      "\n",
      "Current values:\n",
      "NotebookApp.iopub_msg_rate_limit=1000.0 (msgs/sec)\n",
      "NotebookApp.rate_limit_window=3.0 (secs)\n",
      "\n",
      "2404861it [03:11, 12555.21it/s]\n"
     ]
    },
    {
     "name": "stdout",
     "output_type": "stream",
     "text": [
      "CTID_0000060\n"
     ]
    },
    {
     "name": "stderr",
     "output_type": "stream",
     "text": [
      "17552it [00:01, 11691.26it/s]IOPub message rate exceeded.\n",
      "The notebook server will temporarily stop sending output\n",
      "to the client in order to avoid crashing it.\n",
      "To change this limit, set the config variable\n",
      "`--NotebookApp.iopub_msg_rate_limit`.\n",
      "\n",
      "Current values:\n",
      "NotebookApp.iopub_msg_rate_limit=1000.0 (msgs/sec)\n",
      "NotebookApp.rate_limit_window=3.0 (secs)\n",
      "\n",
      "2404861it [03:09, 12694.09it/s]\n"
     ]
    },
    {
     "name": "stdout",
     "output_type": "stream",
     "text": [
      "CTID_0000050\n"
     ]
    },
    {
     "name": "stderr",
     "output_type": "stream",
     "text": [
      "485788it [00:37, 13167.07it/s]IOPub message rate exceeded.\n",
      "The notebook server will temporarily stop sending output\n",
      "to the client in order to avoid crashing it.\n",
      "To change this limit, set the config variable\n",
      "`--NotebookApp.iopub_msg_rate_limit`.\n",
      "\n",
      "Current values:\n",
      "NotebookApp.iopub_msg_rate_limit=1000.0 (msgs/sec)\n",
      "NotebookApp.rate_limit_window=3.0 (secs)\n",
      "\n",
      "2404861it [03:10, 12632.66it/s]\n",
      "1041726it [01:20, 12281.95it/s]IOPub message rate exceeded.\n",
      "The notebook server will temporarily stop sending output\n",
      "to the client in order to avoid crashing it.\n",
      "To change this limit, set the config variable\n",
      "`--NotebookApp.iopub_msg_rate_limit`.\n",
      "\n",
      "Current values:\n",
      "NotebookApp.iopub_msg_rate_limit=1000.0 (msgs/sec)\n",
      "NotebookApp.rate_limit_window=3.0 (secs)\n",
      "\n",
      "2404861it [03:01, 13284.12it/s]\n",
      "1409674it [01:46, 13365.90it/s]IOPub message rate exceeded.\n",
      "The notebook server will temporarily stop sending output\n",
      "to the client in order to avoid crashing it.\n",
      "To change this limit, set the config variable\n",
      "`--NotebookApp.iopub_msg_rate_limit`.\n",
      "\n",
      "Current values:\n",
      "NotebookApp.iopub_msg_rate_limit=1000.0 (msgs/sec)\n",
      "NotebookApp.rate_limit_window=3.0 (secs)\n",
      "\n",
      "2404861it [02:58, 13439.96it/s]\n"
     ]
    },
    {
     "name": "stdout",
     "output_type": "stream",
     "text": [
      "CTID_0000054\n"
     ]
    },
    {
     "name": "stderr",
     "output_type": "stream",
     "text": [
      "76343it [00:06, 12755.58it/s]IOPub message rate exceeded.\n",
      "The notebook server will temporarily stop sending output\n",
      "to the client in order to avoid crashing it.\n",
      "To change this limit, set the config variable\n",
      "`--NotebookApp.iopub_msg_rate_limit`.\n",
      "\n",
      "Current values:\n",
      "NotebookApp.iopub_msg_rate_limit=1000.0 (msgs/sec)\n",
      "NotebookApp.rate_limit_window=3.0 (secs)\n",
      "\n",
      "2404861it [03:07, 12835.44it/s]\n",
      "2404861it [03:11, 12579.96it/s]\n"
     ]
    },
    {
     "name": "stdout",
     "output_type": "stream",
     "text": [
      "CTID_0000041\n"
     ]
    },
    {
     "name": "stderr",
     "output_type": "stream",
     "text": [
      "1326769it [01:48, 12151.96it/s]IOPub message rate exceeded.\n",
      "The notebook server will temporarily stop sending output\n",
      "to the client in order to avoid crashing it.\n",
      "To change this limit, set the config variable\n",
      "`--NotebookApp.iopub_msg_rate_limit`.\n",
      "\n",
      "Current values:\n",
      "NotebookApp.iopub_msg_rate_limit=1000.0 (msgs/sec)\n",
      "NotebookApp.rate_limit_window=3.0 (secs)\n",
      "\n",
      "2008624it [02:35, 13357.05it/s]IOPub message rate exceeded.\n",
      "The notebook server will temporarily stop sending output\n",
      "to the client in order to avoid crashing it.\n",
      "To change this limit, set the config variable\n",
      "`--NotebookApp.iopub_msg_rate_limit`.\n",
      "\n",
      "Current values:\n",
      "NotebookApp.iopub_msg_rate_limit=1000.0 (msgs/sec)\n",
      "NotebookApp.rate_limit_window=3.0 (secs)\n",
      "\n",
      "2404861it [03:01, 13256.16it/s]\n",
      "2404861it [03:04, 13066.76it/s]\n"
     ]
    },
    {
     "name": "stdout",
     "output_type": "stream",
     "text": [
      "CTID_0000052\n"
     ]
    },
    {
     "name": "stderr",
     "output_type": "stream",
     "text": [
      "42170it [00:03, 11964.23it/s]IOPub message rate exceeded.\n",
      "The notebook server will temporarily stop sending output\n",
      "to the client in order to avoid crashing it.\n",
      "To change this limit, set the config variable\n",
      "`--NotebookApp.iopub_msg_rate_limit`.\n",
      "\n",
      "Current values:\n",
      "NotebookApp.iopub_msg_rate_limit=1000.0 (msgs/sec)\n",
      "NotebookApp.rate_limit_window=3.0 (secs)\n",
      "\n",
      "2404861it [03:07, 12858.24it/s]\n",
      "482801it [00:38, 12540.48it/s]IOPub message rate exceeded.\n",
      "The notebook server will temporarily stop sending output\n",
      "to the client in order to avoid crashing it.\n",
      "To change this limit, set the config variable\n",
      "`--NotebookApp.iopub_msg_rate_limit`.\n",
      "\n",
      "Current values:\n",
      "NotebookApp.iopub_msg_rate_limit=1000.0 (msgs/sec)\n",
      "NotebookApp.rate_limit_window=3.0 (secs)\n",
      "\n",
      "2404861it [03:14, 12361.64it/s]\n",
      "2404861it [03:13, 12422.94it/s]\n"
     ]
    },
    {
     "name": "stdout",
     "output_type": "stream",
     "text": [
      "CTID_0000059\n"
     ]
    },
    {
     "name": "stderr",
     "output_type": "stream",
     "text": [
      "2404861it [03:06, 12918.87it/s]\n",
      "2404861it [03:03, 13093.56it/s]\n"
     ]
    },
    {
     "name": "stdout",
     "output_type": "stream",
     "text": [
      "CTID_0000016\n"
     ]
    },
    {
     "name": "stderr",
     "output_type": "stream",
     "text": [
      "2404861it [03:13, 12437.83it/s]\n",
      "2404861it [03:06, 12908.82it/s]\n"
     ]
    },
    {
     "name": "stdout",
     "output_type": "stream",
     "text": [
      "CTID_0000047\n"
     ]
    },
    {
     "name": "stderr",
     "output_type": "stream",
     "text": [
      "2404861it [03:11, 12575.06it/s]\n",
      "2404861it [03:05, 12971.67it/s]\n",
      "2404861it [03:03, 13098.27it/s]\n",
      "2404861it [03:03, 13124.78it/s]\n",
      "2404861it [03:03, 13087.60it/s]\n",
      "2404861it [03:04, 13031.08it/s]\n"
     ]
    },
    {
     "name": "stdout",
     "output_type": "stream",
     "text": [
      "CTID_0000039\n"
     ]
    },
    {
     "name": "stderr",
     "output_type": "stream",
     "text": [
      "2404861it [03:11, 12542.42it/s]\n",
      "2404861it [03:07, 12809.75it/s]\n"
     ]
    },
    {
     "name": "stdout",
     "output_type": "stream",
     "text": [
      "CTID_0000064\n"
     ]
    },
    {
     "name": "stderr",
     "output_type": "stream",
     "text": [
      "2404861it [03:07, 12812.12it/s]\n",
      "2404861it [03:08, 12726.49it/s]\n"
     ]
    },
    {
     "name": "stdout",
     "output_type": "stream",
     "text": [
      "CTID_0000024\n"
     ]
    },
    {
     "name": "stderr",
     "output_type": "stream",
     "text": [
      "2404861it [03:08, 12757.02it/s]\n"
     ]
    },
    {
     "name": "stdout",
     "output_type": "stream",
     "text": [
      "CTID_0000061\n"
     ]
    },
    {
     "name": "stderr",
     "output_type": "stream",
     "text": [
      "2404861it [03:06, 12927.73it/s]\n"
     ]
    },
    {
     "name": "stdout",
     "output_type": "stream",
     "text": [
      "CTID_0000055\n"
     ]
    },
    {
     "name": "stderr",
     "output_type": "stream",
     "text": [
      "2404861it [03:06, 12901.35it/s]\n"
     ]
    },
    {
     "name": "stdout",
     "output_type": "stream",
     "text": [
      "CTID_0000040\n"
     ]
    },
    {
     "name": "stderr",
     "output_type": "stream",
     "text": [
      "2404861it [03:07, 12843.61it/s]\n"
     ]
    },
    {
     "name": "stdout",
     "output_type": "stream",
     "text": [
      "CTID_0000017\n"
     ]
    },
    {
     "name": "stderr",
     "output_type": "stream",
     "text": [
      "2404861it [03:06, 12875.41it/s]\n"
     ]
    },
    {
     "name": "stdout",
     "output_type": "stream",
     "text": [
      "CTID_0000065\n"
     ]
    },
    {
     "name": "stderr",
     "output_type": "stream",
     "text": [
      "2404861it [03:14, 12386.86it/s]\n"
     ]
    },
    {
     "name": "stdout",
     "output_type": "stream",
     "text": [
      "CTID_0000063\n"
     ]
    },
    {
     "name": "stderr",
     "output_type": "stream",
     "text": [
      "2404861it [03:05, 12996.53it/s]\n"
     ]
    }
   ],
   "source": [
    "# load template graph and fill with celltype edge values by iterating over samples in celltype\n",
    "\n",
    "graph = load_graph(f\"../data/graph-tool/template.gt\")\n",
    "\n",
    "for celltype_id in rem_dict:\n",
    "#     if celltype_id not in [\"CTID_0000006\"]:\n",
    "#         continue\n",
    "    print(celltype_id)\n",
    "    \n",
    "    g = Graph(graph)\n",
    "    samples = rem_dict.get(celltype_id)\n",
    "    celltype_name = ID_celltype_dict.get(celltype_id)\n",
    "    \n",
    "    for sample in samples:\n",
    "        sampleID = g.new_ep(\"double\")\n",
    "        g.edge_properties[sample] = sampleID\n",
    "        sample_g = g.new_vp(\"double\")\n",
    "        g.vertex_properties[sample]= sample_g\n",
    "    \n",
    "        for e in tqdm(g.edges()):\n",
    "            rem = g.vp.name[e.source()]\n",
    "            g.ep.celltypeID[e] = celltype_id\n",
    "            g.ep.celltype[e] = celltype_name\n",
    "            \n",
    "            gene = g.vp.name[e.target()]                      # new part, adding gene expr for specific sample\n",
    "            expr = gene_expr_dict.get(gene).get(sample) \n",
    "            g.vp[sample][e.target()] = expr\n",
    "            \n",
    "#             if rem.startswith(\"C\"):    #  mean val for crems\n",
    "#                 mean_expr = sum(float(samples.get(sample).get(r)) for r in rem_crem_dict.get(rem))/len(rem_crem_dict.get(rem))\n",
    "#                 g.ep[sample][e] = mean_expr\n",
    "#             else:\n",
    "#                 g.ep[sample][e] = samples.get(sample).get(rem) \n",
    "            \n",
    "            rem_edge_name = g.ep.rem[e]\n",
    "            g.ep[sample][e] = samples.get(sample).get(rem_edge_name)\n",
    "            \n",
    "    g.save(f\"../data/graph-tool/{celltype_id}.gt\")\n",
    "#     break"
   ]
  },
  {
   "cell_type": "code",
   "execution_count": null,
   "id": "c162148e",
   "metadata": {},
   "outputs": [],
   "source": [
    "# check if all edges are the same in all samples\n",
    "d = dict()\n",
    "with open('../data/REMActivity_1.csv') as file:\n",
    "    reader = csv.reader(file)\n",
    "    counter = 0\n",
    "    for row in tqdm(reader):\n",
    "        if row[0] != \"REMID\":\n",
    "            if d.get(row[1]) != None:\n",
    "                d[row[1]].add(row[0])\n",
    "            else:\n",
    "                d[row[1]] = {row[0]}\n",
    "        \n",
    "check = list(d.values())[0]\n",
    "for k in d.keys():\n",
    "#     print(k)\n",
    "    if  len(check.difference(d.get(k))) != 0:\n",
    "        print(k)"
   ]
  }
 ],
 "metadata": {
  "kernelspec": {
   "display_name": "Python 3 (ipykernel)",
   "language": "python",
   "name": "python3"
  },
  "language_info": {
   "codemirror_mode": {
    "name": "ipython",
    "version": 3
   },
   "file_extension": ".py",
   "mimetype": "text/x-python",
   "name": "python",
   "nbconvert_exporter": "python",
   "pygments_lexer": "ipython3",
   "version": "3.9.16"
  }
 },
 "nbformat": 4,
 "nbformat_minor": 5
}
