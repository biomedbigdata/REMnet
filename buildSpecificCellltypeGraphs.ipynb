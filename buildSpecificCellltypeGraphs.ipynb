{
 "cells": [
  {
   "cell_type": "code",
   "execution_count": 1,
   "id": "924afb33",
   "metadata": {},
   "outputs": [],
   "source": [
    "from graph_tool import *\n",
    "from tqdm import tqdm\n",
    "import csv"
   ]
  },
  {
   "cell_type": "code",
   "execution_count": 2,
   "id": "074ff3b5",
   "metadata": {},
   "outputs": [],
   "source": [
    "sample_celltype_dict = dict()\n",
    "with open('../data/sampleToCelltype.csv') as sampleToCelltype:\n",
    "    reader = csv.reader(sampleToCelltype)\n",
    "    for row in reader:\n",
    "        if row[0] != \"sampleID\":\n",
    "            sample_celltype_dict[row[0]] = [row[1], row[2]]\n",
    "\n",
    "# sample_celltype_dict"
   ]
  },
  {
   "cell_type": "code",
   "execution_count": 4,
   "id": "33a8c90d",
   "metadata": {},
   "outputs": [],
   "source": [
    "ID_celltype_dict = dict()\n",
    "with open('../data/sampleToCelltype.csv') as sampleToCelltype:\n",
    "    reader = csv.reader(sampleToCelltype)\n",
    "    for row in reader:\n",
    "        if row[0] != \"sampleID\":\n",
    "            ID_celltype_dict[row[1]] = row[2]\n",
    "\n",
    "            \n",
    "# ID_celltype_dict"
   ]
  },
  {
   "cell_type": "code",
   "execution_count": 4,
   "id": "3000769d",
   "metadata": {
    "scrolled": true
   },
   "outputs": [
    {
     "name": "stderr",
     "output_type": "stream",
     "text": [
      "399206927it [16:16, 408751.21it/s]\n"
     ]
    }
   ],
   "source": [
    "# rem_dict{celltypes : {samples: {REMs: score}}}\n",
    "# dict to map celltype to samples and the included REMs with their scores\n",
    "\n",
    "rem_dict = dict()\n",
    "with open('../data/REMActivity_1.csv') as file_1:\n",
    "    reader_1 = csv.reader(file_1)\n",
    "    for r in tqdm(reader_1):\n",
    "        rem = r[0] \n",
    "        sample = r[1] \n",
    "        score = r[3] \n",
    "        \n",
    "        if sample_celltype_dict.get(sample) == None:       # if sample not \n",
    "            continue\n",
    "        else:\n",
    "            celltype = sample_celltype_dict.get(sample)[0]\n",
    "            \n",
    "        if rem_dict.get(celltype) == None:\n",
    "            rem_dict[celltype] = {sample: {rem: score}}\n",
    "            \n",
    "        elif rem_dict[celltype].get(sample) == None:\n",
    "            rem_dict.get(celltype)[sample] = {rem: score}\n",
    "            \n",
    "        else:\n",
    "            rem_dict[celltype].get(sample)[rem] = score\n",
    "            "
   ]
  },
  {
   "cell_type": "code",
   "execution_count": 20,
   "id": "a45241ff",
   "metadata": {},
   "outputs": [
    {
     "name": "stderr",
     "output_type": "stream",
     "text": [
      "2404862it [00:24, 98214.93it/s] \n"
     ]
    }
   ],
   "source": [
    "# create template graph to fill with celltype specific values afterwards\n",
    "# Graph contains gens and rems and their edges buth with no values\n",
    "\n",
    "g = Graph()\n",
    "name = g.new_vp(\"string\")\n",
    "g.vp.name = name\n",
    "type = g.new_vp(\"string\")\n",
    "g.vp.type = type\n",
    "celltypeID = g.new_ep(\"string\")\n",
    "g.edge_properties[\"celltypeID\"] = celltypeID\n",
    "celltype = g.new_ep(\"string\")\n",
    "g.edge_properties[\"celltype\"] = celltype\n",
    "\n",
    "done_proteins_dict = {}\n",
    "with open('../data/REMAnnotationModelScore_1.csv') as file:\n",
    "    reader = csv.reader(file)\n",
    "    for row in tqdm(reader):\n",
    "        rem = row[4]\n",
    "        gen = row[3]\n",
    "        if row[1] != \"start\":\n",
    "            v1 = g.add_vertex()\n",
    "            g.vp.name[v1] = rem\n",
    "            g.vp.type[v1] = \"REM\"\n",
    "\n",
    "            if done_proteins_dict.get(gen) == None:\n",
    "                v2 = g.add_vertex()\n",
    "                g.vp.name[v2] = gen\n",
    "                g.vp.type[v2] = \"Gene\"\n",
    "                done_proteins_dict[gen] = int(v2)\n",
    "            else:\n",
    "                v2 = g.vertex(done_proteins_dict.get(gen))\n",
    "\n",
    "            e = g.add_edge(v1, v2)\n",
    "                \n",
    "g.save(f\"../data/graph-tool/template.gt\")"
   ]
  },
  {
   "cell_type": "code",
   "execution_count": null,
   "id": "79db5c60",
   "metadata": {},
   "outputs": [],
   "source": [
    "# load template graph and fill with celltype edge values by iterating over samples in celltype\n",
    "\n",
    "graph = load_graph(f\"../data/graph-tool/template.gt\")\n",
    "\n",
    "for celltype_id in rem_dict:\n",
    "#     if celltype_id in [\"CTID_0000006\", \"CTID_0000027\", \"CTID_0000033\"]:\n",
    "#         continue\n",
    "    print(celltype_id)\n",
    "    \n",
    "    g = Graph(graph)\n",
    "    samples = rem_dict.get(celltype_id)\n",
    "    celltype_name = ID_celltype_dict.get(celltype_id)\n",
    "    \n",
    "    for sample in samples:\n",
    "        sampleID = g.new_ep(\"double\")\n",
    "        g.edge_properties[sample] = sampleID\n",
    "    \n",
    "        for e in tqdm(g.edges()):\n",
    "            rem = g.vp.name[e.source()]\n",
    "            g.ep.celltypeID[e] = celltype_id\n",
    "            g.ep.celltype[e] = celltype_name\n",
    "        \n",
    "#         for sample in samples:\n",
    "#             sampleID = g.new_ep(\"double\")\n",
    "#             g.edge_properties[sample] = sampleID\n",
    "            g.ep[sample][e] = samples.get(sample).get(rem)\n",
    "            \n",
    "    g.save(f\"../data/graph-tool/{celltype_id}.gt\")\n",
    "#     break"
   ]
  },
  {
   "cell_type": "code",
   "execution_count": null,
   "id": "7a612c84",
   "metadata": {},
   "outputs": [],
   "source": [
    "with open('../data/REMActivity_1.csv') as file:\n",
    "    reader = csv.reader(file)\n",
    "    counter = 0\n",
    "    for row in tqdm(reader):\n",
    "        print(row)\n",
    "        counter += 1\n",
    "        if(counter == 200):\n",
    "            break"
   ]
  },
  {
   "cell_type": "code",
   "execution_count": null,
   "id": "26dcc8f3",
   "metadata": {},
   "outputs": [],
   "source": [
    "with open('../data/REMAnnotationModelScore_1.csv') as file:\n",
    "    reader = csv.reader(file)\n",
    "    counter = 0\n",
    "    for row in tqdm(reader):\n",
    "        print(row)\n",
    "        counter += 1\n",
    "        if(counter == 200):\n",
    "            break"
   ]
  },
  {
   "cell_type": "code",
   "execution_count": null,
   "id": "c162148e",
   "metadata": {},
   "outputs": [],
   "source": [
    "# check if all edges are the same in all samples\n",
    "d = dict()\n",
    "with open('../data/REMActivity_1.csv') as file:\n",
    "    reader = csv.reader(file)\n",
    "    counter = 0\n",
    "    for row in tqdm(reader):\n",
    "        if row[0] != \"REMID\":\n",
    "            if d.get(row[1]) != None:\n",
    "                d[row[1]].add(row[0])\n",
    "            else:\n",
    "                d[row[1]] = {row[0]}\n",
    "        \n",
    "check = list(d.values())[0]\n",
    "for k in d.keys():\n",
    "#     print(k)\n",
    "    if  len(check.difference(d.get(k))) != 0:\n",
    "        print(k)"
   ]
  },
  {
   "cell_type": "code",
   "execution_count": null,
   "id": "2acc077a",
   "metadata": {},
   "outputs": [],
   "source": [
    "for celltype_id in rem_dict:\n",
    "    print(celltype_id)\n",
    "    \n",
    "    g = Graph()\n",
    "    name = g.new_vp(\"string\")\n",
    "    g.vp.name = name\n",
    "    type = g.new_vp(\"string\")\n",
    "    g.vp.type = type\n",
    "    celltypeID = g.new_ep(\"string\")\n",
    "    g.edge_properties[\"celltypeID\"] = celltypeID\n",
    "    celltype = g.new_ep(\"string\")\n",
    "    g.edge_properties[\"celltype\"] = celltype\n",
    "    \n",
    "#         standDnase1Log2 = g.new_ep(\"double\")\n",
    "#         g.edge_properties[\"standDnase1Log2\"] = standDnase1Log2\n",
    "\n",
    "    done_proteins_dict = {}\n",
    "    with open('../data/REMAnnotationModelScore_1.csv') as file:\n",
    "        reader = csv.reader(file)\n",
    "        for row in tqdm(reader):\n",
    "            rem = row[4]\n",
    "            gen = row[3]\n",
    "            if row[1] != \"start\":\n",
    "                v1 = g.add_vertex()\n",
    "                g.vp.name[v1] = rem\n",
    "                g.vp.type[v1] = \"REM\"\n",
    "\n",
    "                if done_proteins_dict.get(gen) == None:\n",
    "                    v2 = g.add_vertex()\n",
    "                    g.vp.name[v2] = gen\n",
    "                    g.vp.type[v2] = \"Gene\"\n",
    "                    done_proteins_dict[gen] = int(v2)\n",
    "                else:\n",
    "                    v2 = g.vertex(done_proteins_dict.get(gen))\n",
    "\n",
    "                e = g.add_edge(v1, v2)\n",
    "#                     g.ep.standDnase1Log2[e] = rem_dict.get(rem)[1]\n",
    "                g.ep.celltypeID[e] = celltype_id\n",
    "                g.ep.celltype[e] = ID_celltype_dict.get(celltype_id)\n",
    "                \n",
    "                samples = rem_dict.get(celltype_id)\n",
    "                for sample in samples:\n",
    "                    sampleID = g.new_ep(\"double\")\n",
    "                    g.edge_properties[sample] = sampleID\n",
    "                    g.ep[sample][e] = samples.get(sample).get(rem)\n",
    "                \n",
    "    g.save(f\"../data/graph-tool/{celltype_id}.gt\")\n"
   ]
  }
 ],
 "metadata": {
  "kernelspec": {
   "display_name": "Python 3 (ipykernel)",
   "language": "python",
   "name": "python3"
  },
  "language_info": {
   "codemirror_mode": {
    "name": "ipython",
    "version": 3
   },
   "file_extension": ".py",
   "mimetype": "text/x-python",
   "name": "python",
   "nbconvert_exporter": "python",
   "pygments_lexer": "ipython3",
   "version": "3.9.16"
  }
 },
 "nbformat": 4,
 "nbformat_minor": 5
}
