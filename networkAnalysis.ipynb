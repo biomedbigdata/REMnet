{
 "cells": [
  {
   "cell_type": "code",
   "execution_count": 1,
   "id": "b633d117",
   "metadata": {},
   "outputs": [],
   "source": [
    "from graph_tool.all import *\n",
    "from tqdm import tqdm\n",
    "import graph_tool.clustering as gtc\n",
    "import graph_tool.stats as gt\n",
    "import graph_tool.collection as grtc"
   ]
  },
  {
   "cell_type": "code",
   "execution_count": 2,
   "id": "4acaae7a",
   "metadata": {},
   "outputs": [],
   "source": [
    "g = load_graph(\"../data/graph-tool/allCelltypeGraph.gt\")"
   ]
  },
  {
   "cell_type": "code",
   "execution_count": 3,
   "id": "5e855425",
   "metadata": {},
   "outputs": [
    {
     "name": "stderr",
     "output_type": "stream",
     "text": [
      "2404861it [00:08, 284194.85it/s]\n"
     ]
    }
   ],
   "source": [
    "# create grpah file for cosmograph\n",
    "\n",
    "g_file = open(\"../data/graph-tool/remnet.csv\", \"w\")\n",
    "g_file.write(\"source, target\\n\")\n",
    "for e in tqdm(g.edges()):\n",
    "    g_file.write(f\"{g.vp.name[e.source()]}, {g.vp.name[e.target()]}\\n\")\n",
    "g_file.close()"
   ]
  },
  {
   "cell_type": "code",
   "execution_count": 4,
   "id": "2ee19098",
   "metadata": {},
   "outputs": [
    {
     "data": {
      "text/plain": [
       "2153586"
      ]
     },
     "execution_count": 4,
     "metadata": {},
     "output_type": "execute_result"
    }
   ],
   "source": [
    "uniq_e = set()\n",
    "for e in g.edges():\n",
    "    uniq_e.add(f\"{g.vp.name[e.source()]}, {g.vp.name[e.target()]}\")\n",
    "\n",
    "len(uniq_e)"
   ]
  },
  {
   "cell_type": "code",
   "execution_count": 5,
   "id": "58ae611e",
   "metadata": {},
   "outputs": [
    {
     "data": {
      "text/plain": [
       "2153586"
      ]
     },
     "execution_count": 5,
     "metadata": {},
     "output_type": "execute_result"
    }
   ],
   "source": [
    "e_set = set()\n",
    "file = open(\"../data/graph-tool/remnet.csv\", \"r\")\n",
    "for l in file:\n",
    "    if not l.startswith(\"s\"):\n",
    "        e_set.add(l)\n",
    "file.close()\n",
    "\n",
    "len(e_set)"
   ]
  },
  {
   "cell_type": "code",
   "execution_count": 6,
   "id": "404f6425",
   "metadata": {},
   "outputs": [
    {
     "data": {
      "text/plain": [
       "<Graph object, directed, with 1541001 vertices and 2404861 edges, 5 internal vertex properties, 3 internal edge properties, at 0x7f50b48c1b50>"
      ]
     },
     "execution_count": 6,
     "metadata": {},
     "output_type": "execute_result"
    }
   ],
   "source": [
    "g"
   ]
  },
  {
   "cell_type": "code",
   "execution_count": 10,
   "id": "161d74c3",
   "metadata": {},
   "outputs": [
    {
     "name": "stdout",
     "output_type": "stream",
     "text": [
      "(0.5706384782076823, 0.05869813676256466)\n"
     ]
    }
   ],
   "source": [
    "gr = grtc.data[\"karate\"]\n",
    "clust = gtc.local_clustering(gr)\n",
    "print(gt.vertex_average(gr, clust))"
   ]
  },
  {
   "cell_type": "code",
   "execution_count": 18,
   "id": "8f24bdd0",
   "metadata": {},
   "outputs": [],
   "source": [
    "gf = grtc.data[\"football\"]"
   ]
  },
  {
   "cell_type": "code",
   "execution_count": 21,
   "id": "70d69bcf",
   "metadata": {},
   "outputs": [
    {
     "data": {
      "text/plain": [
       "[7,\n",
       " 0,\n",
       " 2,\n",
       " 3,\n",
       " 7,\n",
       " 3,\n",
       " 2,\n",
       " 8,\n",
       " 8,\n",
       " 7,\n",
       " 3,\n",
       " 5,\n",
       " 6,\n",
       " 2,\n",
       " 6,\n",
       " 2,\n",
       " 7,\n",
       " 9,\n",
       " 6,\n",
       " 1,\n",
       " 9,\n",
       " 8,\n",
       " 8,\n",
       " 7,\n",
       " 5,\n",
       " 0,\n",
       " 6,\n",
       " 9,\n",
       " 5,\n",
       " 1,\n",
       " 1,\n",
       " 6,\n",
       " 2,\n",
       " 0,\n",
       " 6,\n",
       " 1,\n",
       " 14,\n",
       " 0,\n",
       " 6,\n",
       " 2,\n",
       " 3,\n",
       " 7,\n",
       " 13,\n",
       " 6,\n",
       " 4,\n",
       " 0,\n",
       " 10,\n",
       " 2,\n",
       " 4,\n",
       " 10,\n",
       " 5,\n",
       " 8,\n",
       " 3,\n",
       " 10,\n",
       " 6,\n",
       " 1,\n",
       " 9,\n",
       " 4,\n",
       " 16,\n",
       " 17,\n",
       " 2,\n",
       " 6,\n",
       " 9,\n",
       " 15,\n",
       " 2,\n",
       " 9,\n",
       " 4,\n",
       " 10,\n",
       " 8,\n",
       " 5,\n",
       " 9,\n",
       " 6,\n",
       " 3,\n",
       " 10,\n",
       " 3,\n",
       " 4,\n",
       " 9,\n",
       " 8,\n",
       " 8,\n",
       " 1,\n",
       " 12,\n",
       " 3,\n",
       " 11,\n",
       " 10,\n",
       " 3,\n",
       " 6,\n",
       " 4,\n",
       " 9,\n",
       " 10,\n",
       " 0,\n",
       " 5,\n",
       " 4,\n",
       " 4,\n",
       " 7,\n",
       " 1,\n",
       " 9,\n",
       " 9,\n",
       " 18,\n",
       " 3,\n",
       " 6,\n",
       " 2,\n",
       " 1,\n",
       " 3,\n",
       " 0,\n",
       " 7,\n",
       " 0,\n",
       " 2,\n",
       " 3,\n",
       " 8,\n",
       " 0,\n",
       " 10,\n",
       " 8,\n",
       " 4,\n",
       " 9,\n",
       " 10]"
      ]
     },
     "execution_count": 21,
     "metadata": {},
     "output_type": "execute_result"
    }
   ],
   "source": [
    "list(gf.vp.value_tsevans)"
   ]
  },
  {
   "cell_type": "code",
   "execution_count": 22,
   "id": "aaa24811",
   "metadata": {},
   "outputs": [
    {
     "data": {
      "text/plain": [
       "<Graph object, undirected, with 115 vertices and 613 edges, 4 internal vertex properties, 2 internal graph properties, at 0x7f50fc25ef40>"
      ]
     },
     "execution_count": 22,
     "metadata": {},
     "output_type": "execute_result"
    }
   ],
   "source": [
    "gf"
   ]
  }
 ],
 "metadata": {
  "kernelspec": {
   "display_name": "Python 3 (ipykernel)",
   "language": "python",
   "name": "python3"
  },
  "language_info": {
   "codemirror_mode": {
    "name": "ipython",
    "version": 3
   },
   "file_extension": ".py",
   "mimetype": "text/x-python",
   "name": "python",
   "nbconvert_exporter": "python",
   "pygments_lexer": "ipython3",
   "version": "3.9.16"
  }
 },
 "nbformat": 4,
 "nbformat_minor": 5
}
