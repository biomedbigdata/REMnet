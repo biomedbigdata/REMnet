{
 "cells": [
  {
   "cell_type": "code",
   "execution_count": 1,
   "id": "73c64e91",
   "metadata": {},
   "outputs": [],
   "source": [
    "import dysregnet\n",
    "import numpy as np\n",
    "import pandas as pd\n",
    "import csv\n",
    "import math\n",
    "from itertools import islice\n",
    "from tqdm import tqdm\n",
    "from graph_tool.all import *"
   ]
  },
  {
   "cell_type": "code",
   "execution_count": null,
   "id": "d8ce013e",
   "metadata": {},
   "outputs": [],
   "source": [
    "# paths for files\n",
    "meta_path = '../data/TCGA/KIRC/TCGA-KIRC.GDC_phenotype.tsv'\n",
    "expr_path = '../data/TCGA/KIRC/TCGA-KIRC.htseq_fpkm.tsv'\n",
    "graph_path = \"../data/graph-tool/allCelltypeGraph.gt\"\n",
    "methyl_expr_path = \"../data/KIRC/TCGA/TCGA-KIRC.methylation450.tsv\"\n",
    "methyl_path = \"../data/TCGA/humanmethylation450_15017482_v1-2.csv\"\n",
    "dysregnet_result_path = \"../data/TCGA/dysreg_KIRC.csv\""
   ]
  },
  {
   "cell_type": "code",
   "execution_count": 2,
   "id": "3dc2c64b",
   "metadata": {},
   "outputs": [],
   "source": [
    "# get meta data table\n",
    "\n",
    "meta = pd.read_csv(meta_path, sep='\\t', header = 0)\n",
    "meta[\"sample_type_id.samples\"] = [0 if s==11 else int(s) for s in meta[\"sample_type_id.samples\"]]\n",
    "meta.drop(meta[(meta[\"sample_type_id.samples\"] != 0) & (meta[\"sample_type_id.samples\"] != 1)].index, inplace=True)"
   ]
  },
  {
   "cell_type": "code",
   "execution_count": 3,
   "id": "9be3091d",
   "metadata": {},
   "outputs": [
    {
     "name": "stderr",
     "output_type": "stream",
     "text": [
      "/tmp/ipykernel_3666209/2466557277.py:3: DtypeWarning: Columns (1,2,3,4,5,6,7,8,9,10,11,12,13,14,15,16,17,18,19,20,21,22,23,24,25,26,27,28,29,30,31,32,33,34,35,36,37,38,39,40,41,42,43,44,45,46,47,48,49,50,51,52,53,54,55,56,57,58,59,60,61,62,63,64,65,66,67,68,69,70,71,72,73,74,75,76,77,78,79,80,81,82,83,84,85,86,87,88,89,90,91,92,93,94,95,96,97,98,99,100,101,102,103,104,105,106,107,108,109,110,111,112,113,114,115,116,117,118,119,120,121,122,123,124,125,126,127,128,129,130,131,132,133,134,135,136,137,138,139,140,141,142,143,144,145,146,147,148,149,150,151,152,153,154,155,156,157,158,159,160,161,162,163,164,165,166,167,168,169,170,171,172,173,174,175,176,177,178,179,180,181,182,183,184,185,186,187,188,189,190,191,192,193,194,195,196,197,198,199,200,201,202,203,204,205,206,207,208,209,210,211,212,213,214,215,216,217,218,219,220,221,222,223,224,225,226,227,228,229,230,231,232,233,234,235,236,237,238,239,240,241,242,243,244,245,246,247,248,249,250,251,252,253,254,255,256,257,258,259,260,261,262,263,264,265,266,267,268,269,270,271,272,273,274,275,276,277,278,279,280,281,282,283,284,285,286,287,288,289,290,291,292,293,294,295,296,297,298,299,300,301,302,303,304,305,306,307,308,309,310,311,312,313,314,315,316,317,318,319,320,321,322,323,324,325,326,327,328,329,330,331,332,333,334,335,336,337,338,339,340,341,342,343,344,345,346,347,348,349,350,351,352,353,354,355,356,357,358,359,360,361,362,363,364,365,366,367,368,369,370,371,372,373,374,375,376,377,378,379,380,381,382,383,384,385,386,387,388,389,390,391,392,393,394,395,396,397,398,399,400,401,402,403,404,405,406,407,408,409,410,411,412,413,414,415,416,417,418,419,420,421,422,423,424,425,426,427,428,429,430,431,432,433,434,435,436,437,438,439,440,441,442,443,444,445,446,447,448,449,450,451,452,453,454,455,456,457,458,459,460,461,462,463,464,465,466,467,468,469,470,471,472,473,474,475,476,477,478,479,480,481,482,483,484,485,486,487,488,489,490,491,492,493,494,495,496,497,498,499,500,501,502,503,504,505,506,507,508,509,510,511,512,513,514,515,516,517,518,519,520,521,522,523,524,525,526,527,528,529,530,531,532,533,534,535,536,537,538,539,540,541,542,543,544,545,546,547,548,549,550,551,552,553,554,555,556,557,558,559,560,561,562,563,564,565,566,567,568,569,570,571,572,573,574,575,576,577,578,579,580,581,582,583,584,585,586,587,588,589,590,591,592,593,594,595,596,597,598,599,600,601,602,603,604,605,606,607) have mixed types. Specify dtype option on import or set low_memory=False.\n",
      "  expr = pd.read_csv('../data/TCGA/TCGA-KIRC.htseq_fpkm.tsv', sep='\\t', header = None)\n"
     ]
    }
   ],
   "source": [
    "# get gene expression table with samples as rows\n",
    "\n",
    "expr = pd.read_csv(expr_path, sep='\\t', header = None)\n",
    "expr = expr.T\n",
    "expr.columns = expr.iloc[0]\n",
    "expr = expr.tail(-1)\n",
    "expr.columns = expr.columns.str.split(\".\").str[0]\n",
    "cols_expr = expr.columns\n",
    "expr[cols_expr[1:]] = expr[cols_expr[1:]].apply(pd.to_numeric, errors='coerce')"
   ]
  },
  {
   "cell_type": "code",
   "execution_count": null,
   "id": "a4f14494",
   "metadata": {},
   "outputs": [],
   "source": [
    "# check for amount of control samples\n",
    "\n",
    "es = set(expr[\"Ensembl_ID\"]) \n",
    "ms = set(meta.loc[meta['sample_type_id.samples'] == 0, 'submitter_id.samples'])\n",
    "es.intersection(ms)"
   ]
  },
  {
   "cell_type": "code",
   "execution_count": 4,
   "id": "e124e717",
   "metadata": {},
   "outputs": [],
   "source": [
    "# get a gene set for lookup if gene from graph is in TCGA dataset\n",
    "\n",
    "gene_list = list(expr.columns.values)\n",
    "gene_list = gene_list[1:]\n",
    "gene_set = set(gene_list)"
   ]
  },
  {
   "cell_type": "code",
   "execution_count": 5,
   "id": "1ebfa7f5",
   "metadata": {},
   "outputs": [
    {
     "name": "stderr",
     "output_type": "stream",
     "text": [
      "2404861it [00:25, 94923.89it/s] \n"
     ]
    }
   ],
   "source": [
    "# load graph, get GRN (network), rem position dict, filter genes in expr table\n",
    "\n",
    "g = load_graph(graph_path)\n",
    "nodes = []\n",
    "done_nodes = {}\n",
    "rem_pos = {}\n",
    "for e in tqdm(g.edges()):\n",
    "    rem = g.vp.name[e.source()]\n",
    "    gene = g.vp.name[e.target()]\n",
    "    if done_nodes.get(rem) != gene and gene in gene_set:\n",
    "        nodes.append([rem, gene])\n",
    "        \n",
    "        chrom = g.vp.chr[e.source()].split(\"r\")[1]\n",
    "        if rem_pos.get(chrom) == None:\n",
    "            rem_pos[chrom] = {}\n",
    "        rem_pos.get(chrom)[rem] = [g.vp.start[e.source()], g.vp.end[e.source()]]\n",
    "        done_nodes[rem] = gene\n",
    "    else: continue\n",
    "        \n",
    "grn = pd.DataFrame(nodes, columns=[\"REM\", \"GENE\"])\n",
    "s = set(grn[\"GENE\"])\n",
    "l = list(s)\n",
    "l.insert(0, 'Ensembl_ID')\n",
    "expr = expr[l]"
   ]
  },
  {
   "cell_type": "code",
   "execution_count": 6,
   "id": "2a5800bc",
   "metadata": {},
   "outputs": [
    {
     "name": "stderr",
     "output_type": "stream",
     "text": [
      "125015it [00:16, 7672.32it/s]\n"
     ]
    }
   ],
   "source": [
    "# get cpg beta values for all cpgs in all samples\n",
    "\n",
    "cpg = {}\n",
    "cpg_expr_cols = []                                            \n",
    "with open(methyl_expr_path) as f_cpg:\n",
    "    reader = csv.reader(f_cpg, delimiter='\\t')\n",
    "    for l in tqdm(reader):\n",
    "        if l[0].startswith(\"Composite\"):\n",
    "            cpg_expr_cols = l[1:]\n",
    "        else:\n",
    "            cpg[l[0]] = l[1:]\n",
    "        "
   ]
  },
  {
   "cell_type": "code",
   "execution_count": 7,
   "id": "d0e799a0",
   "metadata": {
    "scrolled": true
   },
   "outputs": [
    {
     "name": "stderr",
     "output_type": "stream",
     "text": [
      "100%|█████████████████████████████████████████████████████████████████████████| 125014/125014 [00:27<00:00, 4505.10it/s]\n"
     ]
    }
   ],
   "source": [
    "# convert beta values to m values\n",
    "\n",
    "cpg_m = {}\n",
    "for c in tqdm(cpg):\n",
    "    cpg_m[c] = [ math.log2(float(v)/(1-float(v))) if v != \"\" else \"\" for v in cpg.get(c)]"
   ]
  },
  {
   "cell_type": "code",
   "execution_count": null,
   "id": "ce33a21e",
   "metadata": {},
   "outputs": [],
   "source": [
    "# get cpg positions for all in same chromosome in dict WITHOUT paying attention to mismatches and mapping from GRCh37 to GRCh38\n",
    "\n",
    "cpg_pos = {}\n",
    "counter = 0\n",
    "with open(methyl_path) as f_cpg_pos:\n",
    "    reader = csv.reader(f_cpg_pos)\n",
    "    for l in tqdm(reader):\n",
    "        if l[0].startswith(\"cg\") or l[0].startswith(\"ch\"):     # rs rausgelassen weil keine Koordinaten\n",
    "            if cpg_pos.get(l[11]) == None:\n",
    "                cpg_pos[l[11]] = {}\n",
    "            cpg_pos.get(l[11])[l[0]] = l[12]\n",
    "            counter+=1\n",
    "f_cpg_pos.close()"
   ]
  },
  {
   "cell_type": "code",
   "execution_count": 105,
   "id": "e800a6e2",
   "metadata": {},
   "outputs": [],
   "source": [
    "# bed file with cpgs to map from GRCh37 to GRCh38\n",
    "\n",
    "f = open(\"../data/TCGA/cpg_pos_37.bed\", \"a\")\n",
    "for x, y in cpg_pos.items():\n",
    "    for v, z in y.items():\n",
    "        f.write(f\"chr{x}:{z}-{z}\\t{v}\\n\")\n",
    "f.close()\n",
    "\n",
    "# upload file to LiftOver: https://genome.ucsc.edu/cgi-bin/hgLiftOver"
   ]
  },
  {
   "cell_type": "code",
   "execution_count": 8,
   "id": "62d3fdd4",
   "metadata": {
    "scrolled": true
   },
   "outputs": [],
   "source": [
    "# need to put mismatches from LiftOver manually in mismatch.txt file\n",
    "# get dict for mismatches with chr and coordinate\n",
    "\n",
    "mismatches = {}\n",
    "f_mis = open(\"../data/TCGA/mismatch.txt\", \"r\")\n",
    "for l in f_mis.readlines():\n",
    "    if not l.startswith(\"#\"):\n",
    "        ls = l.split(\":\")\n",
    "        if mismatches.get(ls[0][3:]) == None:\n",
    "            mismatches[ls[0][3:]] = []\n",
    "        mismatches.get(ls[0][3:]).append(ls[1].split(\"-\")[0])"
   ]
  },
  {
   "cell_type": "code",
   "execution_count": 9,
   "id": "54fd08f0",
   "metadata": {},
   "outputs": [],
   "source": [
    "# result from LiftOver\n",
    "# get list with remapped (hg38) coordinates\n",
    "\n",
    "mapped_list = []\n",
    "f_mapped = open(\"../data/TCGA/hglft_genome_22b05_587e30.bed\", \"r\")\n",
    "for l in f_mapped.readlines():\n",
    "    pos = l.split(\":\")[1].split(\"-\")[0]\n",
    "    mapped_list.append(pos)\n",
    "f_mapped.close()"
   ]
  },
  {
   "cell_type": "code",
   "execution_count": 10,
   "id": "ed13d01e",
   "metadata": {},
   "outputs": [
    {
     "name": "stderr",
     "output_type": "stream",
     "text": [
      "486436it [00:03, 155894.07it/s]\n"
     ]
    }
   ],
   "source": [
    "# get cpg positions for all in same chromosome in dict WITH attention to mismatches and mapping\n",
    "\n",
    "cpg_pos = {}\n",
    "counter = 0\n",
    "with open(methyl_path) as f_cpg_pos:\n",
    "    reader = csv.reader(f_cpg_pos)\n",
    "    for l in tqdm(reader):\n",
    "        if l[0].startswith(\"cg\") or l[0].startswith(\"ch\"):     # rs rausgelassen weil keine Koordinaten\n",
    "            if mismatches.get(l[11]) != None and l[12] in  mismatches.get(l[11]):\n",
    "                continue\n",
    "            if cpg_pos.get(l[11]) == None:\n",
    "                cpg_pos[l[11]] = {}\n",
    "            cpg_pos.get(l[11])[l[0]] = int(mapped_list[counter])\n",
    "            counter+=1\n",
    "f_cpg_pos.close()"
   ]
  },
  {
   "cell_type": "code",
   "execution_count": 10,
   "id": "777c90aa",
   "metadata": {
    "scrolled": true
   },
   "outputs": [
    {
     "name": "stdout",
     "output_type": "stream",
     "text": [
      "1\n"
     ]
    },
    {
     "name": "stderr",
     "output_type": "stream",
     "text": [
      "100%|█████████████████████████████████████████████████████████████████████████| 127434/127434 [01:59<00:00, 1062.61it/s]\n"
     ]
    },
    {
     "name": "stdout",
     "output_type": "stream",
     "text": [
      "10\n"
     ]
    },
    {
     "name": "stderr",
     "output_type": "stream",
     "text": [
      "100%|███████████████████████████████████████████████████████████████████████████| 65348/65348 [00:24<00:00, 2679.17it/s]\n"
     ]
    },
    {
     "name": "stdout",
     "output_type": "stream",
     "text": [
      "11\n"
     ]
    },
    {
     "name": "stderr",
     "output_type": "stream",
     "text": [
      "100%|███████████████████████████████████████████████████████████████████████████| 75269/75269 [00:39<00:00, 1894.30it/s]\n"
     ]
    },
    {
     "name": "stdout",
     "output_type": "stream",
     "text": [
      "12\n"
     ]
    },
    {
     "name": "stderr",
     "output_type": "stream",
     "text": [
      "100%|███████████████████████████████████████████████████████████████████████████| 79772/79772 [00:29<00:00, 2733.12it/s]\n"
     ]
    },
    {
     "name": "stdout",
     "output_type": "stream",
     "text": [
      "13\n"
     ]
    },
    {
     "name": "stderr",
     "output_type": "stream",
     "text": [
      "100%|███████████████████████████████████████████████████████████████████████████| 35927/35927 [00:04<00:00, 7256.79it/s]\n"
     ]
    },
    {
     "name": "stdout",
     "output_type": "stream",
     "text": [
      "14\n"
     ]
    },
    {
     "name": "stderr",
     "output_type": "stream",
     "text": [
      "100%|███████████████████████████████████████████████████████████████████████████| 51433/51433 [00:09<00:00, 5193.99it/s]\n"
     ]
    },
    {
     "name": "stdout",
     "output_type": "stream",
     "text": [
      "15\n"
     ]
    },
    {
     "name": "stderr",
     "output_type": "stream",
     "text": [
      "100%|███████████████████████████████████████████████████████████████████████████| 58527/58527 [00:13<00:00, 4357.62it/s]\n"
     ]
    },
    {
     "name": "stdout",
     "output_type": "stream",
     "text": [
      "16\n"
     ]
    },
    {
     "name": "stderr",
     "output_type": "stream",
     "text": [
      "100%|███████████████████████████████████████████████████████████████████████████| 59327/59327 [00:20<00:00, 2828.03it/s]\n"
     ]
    },
    {
     "name": "stdout",
     "output_type": "stream",
     "text": [
      "17\n"
     ]
    },
    {
     "name": "stderr",
     "output_type": "stream",
     "text": [
      "100%|███████████████████████████████████████████████████████████████████████████| 72095/72095 [00:31<00:00, 2280.69it/s]\n"
     ]
    },
    {
     "name": "stdout",
     "output_type": "stream",
     "text": [
      "18\n"
     ]
    },
    {
     "name": "stderr",
     "output_type": "stream",
     "text": [
      "100%|██████████████████████████████████████████████████████████████████████████| 34633/34633 [00:01<00:00, 17877.80it/s]\n"
     ]
    },
    {
     "name": "stdout",
     "output_type": "stream",
     "text": [
      "19\n"
     ]
    },
    {
     "name": "stderr",
     "output_type": "stream",
     "text": [
      "100%|███████████████████████████████████████████████████████████████████████████| 62320/62320 [00:27<00:00, 2303.32it/s]\n"
     ]
    },
    {
     "name": "stdout",
     "output_type": "stream",
     "text": [
      "2\n"
     ]
    },
    {
     "name": "stderr",
     "output_type": "stream",
     "text": [
      "100%|█████████████████████████████████████████████████████████████████████████| 107641/107641 [01:03<00:00, 1697.93it/s]\n"
     ]
    },
    {
     "name": "stdout",
     "output_type": "stream",
     "text": [
      "20\n"
     ]
    },
    {
     "name": "stderr",
     "output_type": "stream",
     "text": [
      "100%|███████████████████████████████████████████████████████████████████████████| 35726/35726 [00:04<00:00, 8738.38it/s]\n"
     ]
    },
    {
     "name": "stdout",
     "output_type": "stream",
     "text": [
      "21\n"
     ]
    },
    {
     "name": "stderr",
     "output_type": "stream",
     "text": [
      "100%|██████████████████████████████████████████████████████████████████████████| 22121/22121 [00:00<00:00, 35707.35it/s]\n"
     ]
    },
    {
     "name": "stdout",
     "output_type": "stream",
     "text": [
      "22\n"
     ]
    },
    {
     "name": "stderr",
     "output_type": "stream",
     "text": [
      "100%|██████████████████████████████████████████████████████████████████████████| 31853/31853 [00:02<00:00, 10744.90it/s]\n"
     ]
    },
    {
     "name": "stdout",
     "output_type": "stream",
     "text": [
      "3\n"
     ]
    },
    {
     "name": "stderr",
     "output_type": "stream",
     "text": [
      "100%|███████████████████████████████████████████████████████████████████████████| 89407/89407 [00:37<00:00, 2367.23it/s]\n"
     ]
    },
    {
     "name": "stdout",
     "output_type": "stream",
     "text": [
      "4\n"
     ]
    },
    {
     "name": "stderr",
     "output_type": "stream",
     "text": [
      "100%|███████████████████████████████████████████████████████████████████████████| 68683/68683 [00:24<00:00, 2781.30it/s]\n"
     ]
    },
    {
     "name": "stdout",
     "output_type": "stream",
     "text": [
      "5\n"
     ]
    },
    {
     "name": "stderr",
     "output_type": "stream",
     "text": [
      "100%|███████████████████████████████████████████████████████████████████████████| 82829/82829 [00:32<00:00, 2585.31it/s]\n"
     ]
    },
    {
     "name": "stdout",
     "output_type": "stream",
     "text": [
      "6\n"
     ]
    },
    {
     "name": "stderr",
     "output_type": "stream",
     "text": [
      "100%|███████████████████████████████████████████████████████████████████████████| 78851/78851 [00:55<00:00, 1416.84it/s]\n"
     ]
    },
    {
     "name": "stdout",
     "output_type": "stream",
     "text": [
      "7\n"
     ]
    },
    {
     "name": "stderr",
     "output_type": "stream",
     "text": [
      "100%|███████████████████████████████████████████████████████████████████████████| 75999/75999 [00:40<00:00, 1873.39it/s]\n"
     ]
    },
    {
     "name": "stdout",
     "output_type": "stream",
     "text": [
      "8\n"
     ]
    },
    {
     "name": "stderr",
     "output_type": "stream",
     "text": [
      "100%|███████████████████████████████████████████████████████████████████████████| 55844/55844 [00:21<00:00, 2634.19it/s]\n"
     ]
    },
    {
     "name": "stdout",
     "output_type": "stream",
     "text": [
      "9\n"
     ]
    },
    {
     "name": "stderr",
     "output_type": "stream",
     "text": [
      "100%|██████████████████████████████████████████████████████████████████████████| 62408/62408 [00:05<00:00, 10821.28it/s]\n"
     ]
    },
    {
     "name": "stdout",
     "output_type": "stream",
     "text": [
      "X\n"
     ]
    },
    {
     "name": "stderr",
     "output_type": "stream",
     "text": [
      "100%|███████████████████████████████████████████████████████████████████████████| 57857/57857 [00:08<00:00, 6963.35it/s]\n"
     ]
    },
    {
     "name": "stdout",
     "output_type": "stream",
     "text": [
      "Y\n"
     ]
    },
    {
     "name": "stderr",
     "output_type": "stream",
     "text": [
      "100%|███████████████████████████████████████████████████████████████████████████| 1489/1489 [00:00<00:00, 136551.48it/s]\n"
     ]
    }
   ],
   "source": [
    "# map all cpgs to REMs\n",
    "\n",
    "rem_cpg = {}\n",
    "for chro, rems in rem_pos.items():\n",
    "    print(chro)\n",
    "    loop_start = 0 \n",
    "    sorted_cpg = dict(sorted(cpg_pos.get(chro).items(), key=lambda x:x[1]))\n",
    "    keys_list = list(sorted_cpg)\n",
    "    for r, v in tqdm(rems.items()):\n",
    "        start = v[0]\n",
    "        end = v[1]\n",
    "        rem_cpg[r] = []\n",
    "        for c, pos in islice(sorted_cpg.items(), loop_start, None):\n",
    "            if pos > end:\n",
    "                loop_start = keys_list.index(c)\n",
    "                break\n",
    "            if pos >= start and pos <= end:\n",
    "                rem_cpg.get(r).append(c)"
   ]
  },
  {
   "cell_type": "code",
   "execution_count": null,
   "id": "9b4e5d81",
   "metadata": {},
   "outputs": [],
   "source": [
    "# kick out REMs with no mapped cpgs and print to file\n",
    "rc_map = open(\"../data/TCGA/rem_cpg_map\", \"w\")\n",
    "rem_filt = dict()\n",
    "for r, v in rem_cpg.items():\n",
    "    if len(v) != 0:\n",
    "        rem_filt[r] = v\n",
    "        cpgs = \",\".join(v)\n",
    "        rc_map.write(f\"{r} {cpgs}\\n\")\n",
    "rc_map.close()"
   ]
  },
  {
   "cell_type": "code",
   "execution_count": 12,
   "id": "e86e36e2",
   "metadata": {},
   "outputs": [],
   "source": [
    "# open file with cpgs mapped to rem and get filtered rem dict\n",
    "rc_map = open(\"../data/TCGA/rem_cpg_map\", \"r\")\n",
    "rem_filt = dict()\n",
    "for line in rc_map.readlines():\n",
    "    l = line.split(\" \")\n",
    "    rem_filt[l[0]] = l[1].replace(\"\\n\", \"\").split(\",\")\n",
    "        "
   ]
  },
  {
   "cell_type": "code",
   "execution_count": 13,
   "id": "16687f75",
   "metadata": {},
   "outputs": [
    {
     "name": "stderr",
     "output_type": "stream",
     "text": [
      "100%|███████████████████████████████████████████████████████████████████████████| 97119/97119 [00:16<00:00, 5872.92it/s]\n"
     ]
    }
   ],
   "source": [
    "# for each REM get mean val over all contained cpgs => this for all samples \n",
    "rem_means = {}\n",
    "for r, c in tqdm(rem_filt.items()):\n",
    "    lists = [] \n",
    "    for l in c:\n",
    "        if cpg.get(l) != None and \"\" not in cpg.get(l):\n",
    "            lists.append(list(map(float, cpg.get(l))))\n",
    "    if len(lists) > 1:\n",
    "        arrays = [np.array(x) for x in lists]\n",
    "        means = [np.mean(k) for k in zip(*arrays)]\n",
    "    elif len(lists) == 1:\n",
    "        means = lists[0]\n",
    "    else:\n",
    "        continue\n",
    "    rem_means[r] = means"
   ]
  },
  {
   "cell_type": "code",
   "execution_count": 14,
   "id": "2ddee102",
   "metadata": {},
   "outputs": [],
   "source": [
    "# create dataframe from rem_means\n",
    "\n",
    "rem_df = pd.DataFrame.from_dict(rem_means)\n",
    "rem_df.insert(0, \"Ensembl_ID\", cpg_expr_cols)\n",
    "# dataf = dataf.set_axis(cpg_expr_cols, axis=0)"
   ]
  },
  {
   "cell_type": "code",
   "execution_count": 15,
   "id": "efe6a954",
   "metadata": {},
   "outputs": [],
   "source": [
    "# filter expression table\n",
    "\n",
    "samples_final = set(cpg_expr_cols).intersection(set(expr[\"Ensembl_ID\"]))\n",
    "rem_df_final = rem_df.loc[rem_df['Ensembl_ID'].isin(samples_final)]\n",
    "expr_final = expr.loc[expr['Ensembl_ID'].isin(samples_final)]\n",
    "expr_all_final = expr_final.join(rem_df_final.set_index('Ensembl_ID'), on='Ensembl_ID')\n",
    "expr_all_final.reset_index(drop=True, inplace=True)\n",
    "expr_all_final = expr_all_final.loc[:, ~(expr_all_final == 0.0).any()]"
   ]
  },
  {
   "cell_type": "code",
   "execution_count": 16,
   "id": "acced377",
   "metadata": {},
   "outputs": [],
   "source": [
    "# get all other final dataframes for dyregnet call\n",
    "\n",
    "rem_final = list(rem_df_final.columns)[1:]\n",
    "genes_final = list(expr_final.columns)[1:]\n",
    "\n",
    "meta_final = meta.loc[meta[\"submitter_id.samples\"].isin(samples_final)]\n",
    "meta_final.reset_index(drop=True, inplace=True)\n",
    "\n",
    "grn_final = grn.loc[grn[\"REM\"].isin(rem_final)]\n",
    "grn_final = grn.loc[grn[\"GENE\"].isin(genes_final)]\n",
    "grn_final.reset_index(drop=True, inplace=True)"
   ]
  },
  {
   "cell_type": "code",
   "execution_count": 17,
   "id": "d6194041",
   "metadata": {},
   "outputs": [
    {
     "data": {
      "text/plain": [
       "24"
      ]
     },
     "execution_count": 17,
     "metadata": {},
     "output_type": "execute_result"
    }
   ],
   "source": [
    "# check if enough samples contained for dysregnet (at least 8)\n",
    "\n",
    "list(meta_final[\"sample_type_id.samples\"]).count(0)"
   ]
  },
  {
   "cell_type": "code",
   "execution_count": 18,
   "id": "7b36a88d",
   "metadata": {},
   "outputs": [
    {
     "name": "stderr",
     "output_type": "stream",
     "text": [
      "35472it [01:41, 349.19it/s]\n"
     ]
    }
   ],
   "source": [
    "data=dysregnet.run(expression_data=expr_all_final,\n",
    "                   meta=meta_final, \n",
    "                   CatCov=[\"race.demographic\", \"gender.demographic\"],\n",
    "                   ConCov=[\"days_to_birth.demographic\"],\n",
    "                   GRN=grn_final,\n",
    "                   normaltest=True,\n",
    "                   R2_threshold=.2,\n",
    "                   conCol='sample_type_id.samples')"
   ]
  },
  {
   "cell_type": "code",
   "execution_count": 30,
   "id": "48bee5d9",
   "metadata": {},
   "outputs": [
    {
     "data": {
      "text/plain": [
       "True"
      ]
     },
     "execution_count": 30,
     "metadata": {},
     "output_type": "execute_result"
    }
   ],
   "source": [
    "# filter dysregnet results\n",
    "\n",
    "res = data.get_results()\n",
    "sample_list = res.iloc[:,0].tolist()\n",
    "res = res[res.columns[1:]]\n",
    "res_filt = res.loc[:, (res > 0.0).any()]\n",
    "res_filt.index = sample_list"
   ]
  },
  {
   "cell_type": "code",
   "execution_count": 35,
   "id": "e71ce7ae",
   "metadata": {},
   "outputs": [],
   "source": [
    "# save results as csv\n",
    "\n",
    "res_filt.to_csv(dysregnet_result_path, sep=\"\\t\")"
   ]
  }
 ],
 "metadata": {
  "kernelspec": {
   "display_name": "Python 3 (ipykernel)",
   "language": "python",
   "name": "python3"
  },
  "language_info": {
   "codemirror_mode": {
    "name": "ipython",
    "version": 3
   },
   "file_extension": ".py",
   "mimetype": "text/x-python",
   "name": "python",
   "nbconvert_exporter": "python",
   "pygments_lexer": "ipython3",
   "version": "3.9.16"
  }
 },
 "nbformat": 4,
 "nbformat_minor": 5
}
